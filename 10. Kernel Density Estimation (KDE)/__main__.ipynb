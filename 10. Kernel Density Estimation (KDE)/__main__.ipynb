{
 "cells": [
  {
   "cell_type": "markdown",
   "id": "rapid-roberts",
   "metadata": {},
   "source": [
    "# Fraud Detection with **_Kernel Density Estimation_**"
   ]
  },
  {
   "cell_type": "code",
   "execution_count": 1,
   "id": "bored-shoulder",
   "metadata": {
    "pycharm": {
     "name": "#%%\n"
    }
   },
   "outputs": [],
   "source": [
    "import numpy as np\n",
    "import pandas as pd\n",
    "import matplotlib.pyplot as plt\n",
    "from sklearn.neighbors import KernelDensity"
   ]
  },
  {
   "cell_type": "code",
   "execution_count": 2,
   "id": "strange-groove",
   "metadata": {
    "pycharm": {
     "name": "#%%\n"
    }
   },
   "outputs": [],
   "source": [
    "transactions = pd.read_csv('anonymized.csv')"
   ]
  },
  {
   "cell_type": "code",
   "execution_count": 3,
   "id": "arranged-helicopter",
   "metadata": {
    "pycharm": {
     "name": "#%%\n"
    }
   },
   "outputs": [],
   "source": [
    "transactions.Date = pd.to_datetime(transactions.Date, format='%d%b%Y')\n",
    "\n",
    "monthly_transactions = transactions.groupby(pd.Grouper(key='Date', freq='M')).sum()"
   ]
  },
  {
   "cell_type": "code",
   "execution_count": 4,
   "id": "fatal-owner",
   "metadata": {
    "pycharm": {
     "name": "#%%\n"
    }
   },
   "outputs": [],
   "source": [
    "x = monthly_transactions.Amount.values.reshape(-1, 1)\n",
    "x_plot = np.linspace(x.min(), x.max(), num=150)\n",
    "kde = KernelDensity(kernel='gaussian', bandwidth=x.std() / 2)\n",
    "kde.fit(x)\n",
    "y_plot = np.exp(kde.score_samples(x_plot.reshape(-1, 1)))"
   ]
  },
  {
   "cell_type": "code",
   "execution_count": 5,
   "id": "acknowledged-poultry",
   "metadata": {
    "pycharm": {
     "name": "#%%\n"
    }
   },
   "outputs": [],
   "source": [
    "n_samples = 10\n",
    "x_samp = kde.sample(n_samples)"
   ]
  },
  {
   "cell_type": "code",
   "execution_count": 6,
   "id": "contained-symposium",
   "metadata": {
    "pycharm": {
     "name": "#%%\n"
    },
    "scrolled": true
   },
   "outputs": [
    {
     "data": {
      "image/png": "[encoded data removed]",
      "text/plain": [
       "<Figure size 432x288 with 1 Axes>"
      ]
     },
     "metadata": {
      "needs_background": "light"
     },
     "output_type": "display_data"
    }
   ],
   "source": [
    "plt.plot(x_plot, y_plot, color='magenta', label='KDE (h={:,.2f})'.format(kde.bandwidth))\n",
    "plt.hist(monthly_transactions.Amount, density=True, color='pink', bins=20, label='Histogram (20 bins)')\n",
    "plt.scatter(x_samp, np.repeat(y_plot.max(), n_samples),\n",
    "            zorder=3, color='darkred', marker='+', alpha=0.6, s=100, label=f'{n_samples} samples from KDE')\n",
    "plt.legend()\n",
    "plt.xlabel('Monthly Transaction Value ($)')\n",
    "plt.ylabel('Density')\n",
    "plt.show()"
   ]
  }
 ],
 "metadata": {
  "kernelspec": {
   "display_name": "Python 3",
   "language": "python",
   "name": "python3"
  },
  "language_info": {
   "codemirror_mode": {
    "name": "ipython",
    "version": 3
   },
   "file_extension": ".py",
   "mimetype": "text/x-python",
   "name": "python",
   "nbconvert_exporter": "python",
   "pygments_lexer": "ipython3",
   "version": "3.9.0"
  },
  "toc": {
   "base_numbering": 1,
   "nav_menu": {},
   "number_sections": true,
   "sideBar": true,
   "skip_h1_title": false,
   "title_cell": "Table of Contents",
   "title_sidebar": "Contents",
   "toc_cell": false,
   "toc_position": {},
   "toc_section_display": true,
   "toc_window_display": false
  },
  "varInspector": {
   "cols": {
    "lenName": 16,
    "lenType": 16,
    "lenVar": 40
   },
   "kernels_config": {
    "python": {
     "delete_cmd_postfix": "",
     "delete_cmd_prefix": "del ",
     "library": "var_list.py",
     "varRefreshCmd": "print(var_dic_list())"
    },
    "r": {
     "delete_cmd_postfix": ") ",
     "delete_cmd_prefix": "rm(",
     "library": "var_list.r",
     "varRefreshCmd": "cat(var_dic_list()) "
    }
   },
   "types_to_exclude": [
    "module",
    "function",
    "builtin_function_or_method",
    "instance",
    "_Feature"
   ],
   "window_display": false
  }
 },
 "nbformat": 4,
 "nbformat_minor": 5
}
