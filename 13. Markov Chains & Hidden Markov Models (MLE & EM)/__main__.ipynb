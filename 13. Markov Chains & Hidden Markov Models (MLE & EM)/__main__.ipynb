{
 "cells": [
  {
   "cell_type": "markdown",
   "id": "vietnamese-genetics",
   "metadata": {},
   "source": [
    "# Language Processing with **_Markov Chains & Hidden Markov Models_**\n"
   ]
  },
  {
   "cell_type": "markdown",
   "id": "bridal-contact",
   "metadata": {},
   "source": [
    "## Language Detection\n",
    "\n",
    "### Problem Statement\n",
    "\n",
    "There are three languages: A, B and C. Each language uses the same set of symbols: \"A, o, e, t, p, g, and k.\" However, each language uses the symbols differently. In each of these languages we can model everything as P(next symbol | current symbol) with Markov Chains.\n",
    "\n",
    "\n",
    "### Data preparation"
   ]
  },
  {
   "cell_type": "code",
   "execution_count": 1,
   "id": "integral-refund",
   "metadata": {
    "pycharm": {
     "name": "#%%\n"
    }
   },
   "outputs": [],
   "source": [
    "from os import listdir\n",
    "import pandas as pd\n",
    "import numpy as np\n",
    "import matplotlib.pyplot as plt\n",
    "from sklearn.model_selection import train_test_split\n",
    "from sklearn.metrics import accuracy_score, homogeneity_score\n",
    "from hmmlearn.hmm import MultinomialHMM"
   ]
  },
  {
   "cell_type": "code",
   "execution_count": 2,
   "id": "junior-compatibility",
   "metadata": {
    "pycharm": {
     "name": "#%%\n"
    }
   },
   "outputs": [],
   "source": [
    "symbol_dir = 'symbol'\n",
    "\n",
    "symbol_files = listdir(symbol_dir)\n",
    "\n",
    "symbols = []\n",
    "test_symbols = []\n",
    "\n",
    "files = []\n",
    "\n",
    "for file in symbol_files:\n",
    "    with open(symbol_dir + '\\\\' + file) as f:\n",
    "        if 'test' not in file:  # the train files don't seem to have labels, so just excluding them\n",
    "            files.append(file)\n",
    "            symbols.append(f.read())\n",
    "        else:\n",
    "            test_symbols.append(f.read())"
   ]
  },
  {
   "cell_type": "code",
   "execution_count": 3,
   "id": "proved-procurement",
   "metadata": {
    "pycharm": {
     "name": "#%%\n"
    }
   },
   "outputs": [],
   "source": [
    "seed = 1456418\n",
    "\n",
    "full_df = (pd.DataFrame(pd.Series(files).str.split('-').tolist()).rename({2: 'language'}, axis=1)\n",
    "    .assign(string=symbols)[['string', 'language']])\n",
    "\n",
    "train_df, test_df = train_test_split(full_df, test_size=0.1, random_state=seed)"
   ]
  },
  {
   "cell_type": "markdown",
   "id": "traditional-termination",
   "metadata": {},
   "source": [
    "## Training"
   ]
  },
  {
   "cell_type": "markdown",
   "id": "julian-antibody",
   "metadata": {},
   "source": [
    "The first step to make a prediction for a Markov chain is to generate an $n\\times n$ matrix $C$ (with $n$ being the number of unique states), where $C_{ij}$ is the number of times state $i$ transitions to state $j$. Then, we would calculate a transition matrix which would convert the counts into probabilities, where each element in the transition matrix is given by $T_{ij} = \\frac{C_{ij}}{\\sum_{i=1}^n C_{ij}}$, i.e., the probability of transitioning to state $j$ give we're in state $i$ (meaning $i$th column sums up to 1). Additionally, we need to calculate the vector of initial distributions $\\pi$, so that $\\pi_i$ is the probability of $i$th state to be the first one in the sequence (for $i \\in 1...n$).\n",
    "\n",
    "In order to make a prediction, we first (in `get_likelihood()`) calculate the likelihood of the given sequence of states given each of the Markov models (languages). To do that, we would first create a count matrix for the sequence (where $C_{ij}$ is the number of times state $i$ transitions to state $j$), and then we would use it to calculate the likelihoods for each of the Markov models as follows: $\\begin{aligned}[t]\n",
    "P(sequence|model) \n",
    "    &= P(seq_1|model) \\cdot P(seq_2|seq_1, model) \\cdot ... \\cdot P(seq_{n-1}|seq_n, model) \\\\\n",
    "    &= \\pi_{s_1} \\cdot T_{s_1s_2} \\cdot T_{s_2s_3} \\cdot ... T_{s_{n-1}s_n} \\\\\n",
    "    &= \\pi_{s_1} \\cdot \\prod_i \\prod_j T_{ij}^{C_{ij}}\n",
    "\\end{aligned}$\n",
    "\n",
    "where $seq_n$ is the $n$th state in the sequence, $p_{s_1}$ is the initial probability of the first state in the given sequence to occur in the model, and $T_{ij}^{C_{ij}}$ is the probability of each transition in the sequence to occur in that model, raised to the power of the number of times it appears in the sequence.\n",
    "\n",
    "Then, in `get_posteriors()`, to finally get the probability of each model given the sequence, $P(model|sequence)$, we apply Bayes theorem as: $P(model_k|sequence) = \\frac{P(sequence|model_k)P(model_k)}{\\sum_k P(sequence|model_k)}$, where $P(model_k)$ is the prior (assumed to be flat). \n",
    "\n",
    "To make the final prediction (in `predict()`), we simply take the index of the model whose posterior is largest and return it as the most probable source of the sequence.\n"
   ]
  },
  {
   "cell_type": "code",
   "execution_count": 4,
   "id": "honey-attitude",
   "metadata": {
    "pycharm": {
     "name": "#%%\n"
    }
   },
   "outputs": [],
   "source": [
    "def get_transition_counts(string: str):\n",
    "    \"\"\"\n",
    "    Returns a transition dataframe based on given string,\n",
    "    Where df['b']['a'] is the number of transitions from 'a' to 'b'.\n",
    "    \"\"\"\n",
    "    df = pd.DataFrame(list(string))\n",
    "    return (df.assign(old_state=df[0].shift(-1))  # shift one back to get old state\n",
    "            .assign(new_state=1)  # to count transitions in groupby\n",
    "            .groupby([0, 'old_state']).count()\n",
    "            .unstack().fillna(0)  # unstack into wide format\n",
    "            .droplevel(0, axis=1)  # remove multi-level indexing\n",
    "            .transpose())  # so that new state is rows and old state is columns\n",
    "\n",
    "\n",
    "def get_transition_matrix(list_of_strings, symbols=None):\n",
    "    \"\"\"\n",
    "    Returns a transition matrix of a list of strings\n",
    "    \"\"\"\n",
    "    if symbols is None:\n",
    "        symbols = np.sort(np.unique(list(pd.Series(list_of_strings).sum())))\n",
    "    # Initialize empty matrix with 0s\n",
    "    transition_matrix = pd.DataFrame(0, index=pd.Series(symbols, name='new_state'),\n",
    "                                     columns=pd.Series(symbols, name='old_state'))\n",
    "    for string in list_of_strings:\n",
    "        transition_matrix = transition_matrix.add(get_transition_counts(string), fill_value=0)\n",
    "\n",
    "    return transition_matrix.div(transition_matrix.sum(axis=0), axis=1).fillna(0)  # make sure sums to 1 in each row)\n",
    "\n",
    "\n",
    "def get_initial_distribution(list_of_strings, symbols=None):\n",
    "    \"\"\"\n",
    "    Returns a Series where index is each of the unique symbols found in strings,\n",
    "    and values are their relative frequencies in the beginning of strings (sums to 1);\n",
    "    If `symbols` is passed, ensures all symbols are in result, even if not found (with value 0)\n",
    "    \"\"\"\n",
    "    unique, counts = np.unique([string[0] for string in list_of_strings], return_counts=True)\n",
    "    if symbols is not None:\n",
    "        missing_symbols = list(set(symbols) - set(unique))\n",
    "        unique = np.hstack([unique, missing_symbols])\n",
    "        counts = np.hstack([counts, [0] * len(missing_symbols)])\n",
    "    dist = pd.Series(counts, index=unique)\n",
    "    return dist.sort_index() / dist.sum()\n",
    "\n",
    "\n",
    "def get_likelihood(string, initial_distribution, transition_matrix):\n",
    "    \"\"\"Returns the probability of string given the initial distribution and transition matrix of a language\"\"\"\n",
    "    return initial_distribution[string[0]] * np.product(np.product(transition_matrix ** get_transition_counts(string)))\n",
    "\n",
    "\n",
    "def get_posteriors(string, initial_distributions, transition_matrices, priors=None):\n",
    "    \"\"\"\n",
    "    Returns posteriors of the string being generated by each of the languages,\n",
    "    If `priors` is None, assumes flat prior.\n",
    "    \"\"\"\n",
    "    if priors is None:\n",
    "        priors = np.full(len(initial_distributions), 1) / len(initial_distributions)\n",
    "    likelihoods = [get_likelihood(string, id, tm) for id, tm in zip(initial_distributions, transition_matrices)]\n",
    "    return priors * likelihoods / sum(likelihoods)  # Bayes theorem!\n",
    "\n",
    "\n",
    "def predict(*args, **kwargs):\n",
    "    \"\"\"Returns the index of the language with maximum posterior\"\"\"\n",
    "    return np.argmax(get_posteriors(*args, **kwargs))\n"
   ]
  },
  {
   "cell_type": "code",
   "execution_count": 5,
   "id": "certain-contact",
   "metadata": {
    "pycharm": {
     "name": "#%%\n"
    }
   },
   "outputs": [],
   "source": [
    "transition_matrices = []\n",
    "initial_distributions = []\n",
    "for lang in train_df.language.unique():\n",
    "    strings = train_df[train_df.language == lang].string\n",
    "    transition_matrices.append(get_transition_matrix(strings))\n",
    "    initial_distributions.append(get_initial_distribution(strings))"
   ]
  },
  {
   "cell_type": "code",
   "execution_count": 6,
   "id": "political-technique",
   "metadata": {
    "pycharm": {
     "name": "#%%\n"
    }
   },
   "outputs": [
    {
     "data": {
      "text/html": [
       "<div>\n",
       "<style scoped>\n",
       "    .dataframe tbody tr th:only-of-type {\n",
       "        vertical-align: middle;\n",
       "    }\n",
       "\n",
       "    .dataframe tbody tr th {\n",
       "        vertical-align: top;\n",
       "    }\n",
       "\n",
       "    .dataframe thead th {\n",
       "        text-align: right;\n",
       "    }\n",
       "</style>\n",
       "<table border=\"1\" class=\"dataframe\">\n",
       "  <thead>\n",
       "    <tr style=\"text-align: right;\">\n",
       "      <th>old_state</th>\n",
       "      <th>A</th>\n",
       "      <th>e</th>\n",
       "      <th>g</th>\n",
       "      <th>k</th>\n",
       "      <th>o</th>\n",
       "      <th>p</th>\n",
       "      <th>t</th>\n",
       "    </tr>\n",
       "    <tr>\n",
       "      <th>new_state</th>\n",
       "      <th></th>\n",
       "      <th></th>\n",
       "      <th></th>\n",
       "      <th></th>\n",
       "      <th></th>\n",
       "      <th></th>\n",
       "      <th></th>\n",
       "    </tr>\n",
       "  </thead>\n",
       "  <tbody>\n",
       "    <tr>\n",
       "      <th>A</th>\n",
       "      <td>0.618</td>\n",
       "      <td>0.061</td>\n",
       "      <td>0.090</td>\n",
       "      <td>0.050</td>\n",
       "      <td>0.069</td>\n",
       "      <td>0.044</td>\n",
       "      <td>0.068</td>\n",
       "    </tr>\n",
       "    <tr>\n",
       "      <th>e</th>\n",
       "      <td>0.053</td>\n",
       "      <td>0.609</td>\n",
       "      <td>0.066</td>\n",
       "      <td>0.053</td>\n",
       "      <td>0.055</td>\n",
       "      <td>0.088</td>\n",
       "      <td>0.071</td>\n",
       "    </tr>\n",
       "    <tr>\n",
       "      <th>g</th>\n",
       "      <td>0.074</td>\n",
       "      <td>0.053</td>\n",
       "      <td>0.588</td>\n",
       "      <td>0.062</td>\n",
       "      <td>0.050</td>\n",
       "      <td>0.085</td>\n",
       "      <td>0.081</td>\n",
       "    </tr>\n",
       "    <tr>\n",
       "      <th>k</th>\n",
       "      <td>0.056</td>\n",
       "      <td>0.077</td>\n",
       "      <td>0.069</td>\n",
       "      <td>0.588</td>\n",
       "      <td>0.060</td>\n",
       "      <td>0.044</td>\n",
       "      <td>0.058</td>\n",
       "    </tr>\n",
       "    <tr>\n",
       "      <th>o</th>\n",
       "      <td>0.069</td>\n",
       "      <td>0.055</td>\n",
       "      <td>0.064</td>\n",
       "      <td>0.082</td>\n",
       "      <td>0.620</td>\n",
       "      <td>0.073</td>\n",
       "      <td>0.063</td>\n",
       "    </tr>\n",
       "    <tr>\n",
       "      <th>p</th>\n",
       "      <td>0.084</td>\n",
       "      <td>0.066</td>\n",
       "      <td>0.048</td>\n",
       "      <td>0.079</td>\n",
       "      <td>0.077</td>\n",
       "      <td>0.593</td>\n",
       "      <td>0.066</td>\n",
       "    </tr>\n",
       "    <tr>\n",
       "      <th>t</th>\n",
       "      <td>0.046</td>\n",
       "      <td>0.079</td>\n",
       "      <td>0.074</td>\n",
       "      <td>0.085</td>\n",
       "      <td>0.069</td>\n",
       "      <td>0.073</td>\n",
       "      <td>0.593</td>\n",
       "    </tr>\n",
       "  </tbody>\n",
       "</table>\n",
       "</div>"
      ],
      "text/plain": [
       "old_state     A     e     g     k     o     p     t\n",
       "new_state                                          \n",
       "A         0.618 0.061 0.090 0.050 0.069 0.044 0.068\n",
       "e         0.053 0.609 0.066 0.053 0.055 0.088 0.071\n",
       "g         0.074 0.053 0.588 0.062 0.050 0.085 0.081\n",
       "k         0.056 0.077 0.069 0.588 0.060 0.044 0.058\n",
       "o         0.069 0.055 0.064 0.082 0.620 0.073 0.063\n",
       "p         0.084 0.066 0.048 0.079 0.077 0.593 0.066\n",
       "t         0.046 0.079 0.074 0.085 0.069 0.073 0.593"
      ]
     },
     "execution_count": 6,
     "metadata": {},
     "output_type": "execute_result"
    }
   ],
   "source": [
    "pd.set_option('display.float_format', lambda x: '%.3f' % x)  # display only last 3 digits\n",
    "transition_matrices[1]  # langB"
   ]
  },
  {
   "cell_type": "code",
   "execution_count": 7,
   "id": "laughing-distributor",
   "metadata": {
    "pycharm": {
     "name": "#%%\n"
    }
   },
   "outputs": [
    {
     "data": {
      "image/png": "[encoded data removed]",
      "text/plain": [
       "<Figure size 432x288 with 1 Axes>"
      ]
     },
     "metadata": {
      "needs_background": "light"
     },
     "output_type": "display_data"
    }
   ],
   "source": [
    "languages = train_df.language.unique()\n",
    "pd.DataFrame(initial_distributions, index=languages).transpose().plot.bar()\n",
    "plt.ylabel('Density')\n",
    "plt.xlabel('Symbol')\n",
    "plt.title('Initial Distributions across languages')\n",
    "plt.show()"
   ]
  },
  {
   "cell_type": "markdown",
   "id": "protective-oxygen",
   "metadata": {},
   "source": [
    "## Testing"
   ]
  },
  {
   "cell_type": "code",
   "execution_count": 8,
   "id": "convenient-audience",
   "metadata": {
    "pycharm": {
     "name": "#%%\n"
    }
   },
   "outputs": [
    {
     "data": {
      "text/html": [
       "<div>\n",
       "<style scoped>\n",
       "    .dataframe tbody tr th:only-of-type {\n",
       "        vertical-align: middle;\n",
       "    }\n",
       "\n",
       "    .dataframe tbody tr th {\n",
       "        vertical-align: top;\n",
       "    }\n",
       "\n",
       "    .dataframe thead th {\n",
       "        text-align: right;\n",
       "    }\n",
       "</style>\n",
       "<table border=\"1\" class=\"dataframe\">\n",
       "  <thead>\n",
       "    <tr style=\"text-align: right;\">\n",
       "      <th></th>\n",
       "      <th>string</th>\n",
       "      <th>language</th>\n",
       "      <th>prediction</th>\n",
       "    </tr>\n",
       "  </thead>\n",
       "  <tbody>\n",
       "    <tr>\n",
       "      <th>17</th>\n",
       "      <td>ogogogogopopeppepokegogekogepegogAgAgepetteAtg...</td>\n",
       "      <td>langA</td>\n",
       "      <td>langA</td>\n",
       "    </tr>\n",
       "    <tr>\n",
       "      <th>31</th>\n",
       "      <td>AoeoAoeoAtetegeoegAteoegAoetAgtAtAoeoeoAoAgAoe...</td>\n",
       "      <td>langB</td>\n",
       "      <td>langB</td>\n",
       "    </tr>\n",
       "    <tr>\n",
       "      <th>33</th>\n",
       "      <td>oetAoAtApoAoegAtetetAgAoAtAoAptAgtooeAgegAtAoA...</td>\n",
       "      <td>langB</td>\n",
       "      <td>langB</td>\n",
       "    </tr>\n",
       "    <tr>\n",
       "      <th>35</th>\n",
       "      <td>oeooAeoeoetAtAtAteteteeeoepoAgAggAtteoeoAtgete...</td>\n",
       "      <td>langB</td>\n",
       "      <td>langB</td>\n",
       "    </tr>\n",
       "    <tr>\n",
       "      <th>5</th>\n",
       "      <td>kogAptegAtAkkepApAtkApetttgegAkekegokApoAketep...</td>\n",
       "      <td>langA</td>\n",
       "      <td>langA</td>\n",
       "    </tr>\n",
       "    <tr>\n",
       "      <th>60</th>\n",
       "      <td>ppoooootttkkkttoppppAAeeopppekkkgggtttttttkkAA...</td>\n",
       "      <td>langC</td>\n",
       "      <td>langC</td>\n",
       "    </tr>\n",
       "    <tr>\n",
       "      <th>72</th>\n",
       "      <td>ooooooooAAAAookeeAkkkkoooppgggppotteekkgeepptt...</td>\n",
       "      <td>langC</td>\n",
       "      <td>langC</td>\n",
       "    </tr>\n",
       "    <tr>\n",
       "      <th>26</th>\n",
       "      <td>pAkApotpeketptkpotkeekAgopAApgAetgeketAkAtpgAk...</td>\n",
       "      <td>langA</td>\n",
       "      <td>langA</td>\n",
       "    </tr>\n",
       "    <tr>\n",
       "      <th>73</th>\n",
       "      <td>ttttAAAAAttAAppopppkkkeeeokkttgteppppppgttkkAA...</td>\n",
       "      <td>langC</td>\n",
       "      <td>langC</td>\n",
       "    </tr>\n",
       "  </tbody>\n",
       "</table>\n",
       "</div>"
      ],
      "text/plain": [
       "                                               string language prediction\n",
       "17  ogogogogopopeppepokegogekogepegogAgAgepetteAtg...    langA      langA\n",
       "31  AoeoAoeoAtetegeoegAteoegAoetAgtAtAoeoeoAoAgAoe...    langB      langB\n",
       "33  oetAoAtApoAoegAtetetAgAoAtAoAptAgtooeAgegAtAoA...    langB      langB\n",
       "35  oeooAeoeoetAtAtAteteteeeoepoAgAggAtteoeoAtgete...    langB      langB\n",
       "5   kogAptegAtAkkepApAtkApetttgegAkekegokApoAketep...    langA      langA\n",
       "60  ppoooootttkkkttoppppAAeeopppekkkgggtttttttkkAA...    langC      langC\n",
       "72  ooooooooAAAAookeeAkkkkoooppgggppotteekkgeepptt...    langC      langC\n",
       "26  pAkApotpeketptkpotkeekAgopAApgAetgeketAkAtpgAk...    langA      langA\n",
       "73  ttttAAAAAttAAppopppkkkeeeokkttgteppppppgttkkAA...    langC      langC"
      ]
     },
     "execution_count": 8,
     "metadata": {},
     "output_type": "execute_result"
    }
   ],
   "source": [
    "# list of 0, 1 or 2 - classes (indices of languages)\n",
    "predictions = []\n",
    "for string, true_lang in zip(test_df.string, test_df.language):\n",
    "    predictions.append(predict(string, initial_distributions, transition_matrices))\n",
    "\n",
    "test_df.assign(prediction=languages[predictions])"
   ]
  },
  {
   "cell_type": "code",
   "execution_count": 9,
   "id": "adolescent-smoke",
   "metadata": {
    "pycharm": {
     "name": "#%%\n"
    }
   },
   "outputs": [
    {
     "name": "stdout",
     "output_type": "stream",
     "text": [
      "Test accuracy: 1.0\n"
     ]
    }
   ],
   "source": [
    "# convert true languages to their indices\n",
    "true_languages = pd.Series(range(len(languages)), index=languages)[test_df.language]\n",
    "\n",
    "print('Test accuracy:', accuracy_score(true_languages, predictions))"
   ]
  },
  {
   "cell_type": "code",
   "execution_count": 10,
   "id": "plain-meditation",
   "metadata": {
    "pycharm": {
     "name": "#%%\n"
    }
   },
   "outputs": [
    {
     "data": {
      "text/html": [
       "<div>\n",
       "<style scoped>\n",
       "    .dataframe tbody tr th:only-of-type {\n",
       "        vertical-align: middle;\n",
       "    }\n",
       "\n",
       "    .dataframe tbody tr th {\n",
       "        vertical-align: top;\n",
       "    }\n",
       "\n",
       "    .dataframe thead th {\n",
       "        text-align: right;\n",
       "    }\n",
       "</style>\n",
       "<table border=\"1\" class=\"dataframe\">\n",
       "  <thead>\n",
       "    <tr style=\"text-align: right;\">\n",
       "      <th></th>\n",
       "      <th>P(langA)</th>\n",
       "      <th>P(langC)</th>\n",
       "      <th>P(langB)</th>\n",
       "    </tr>\n",
       "  </thead>\n",
       "  <tbody>\n",
       "    <tr>\n",
       "      <th>pppooootgAookggggtttopAtttkkkeeggeeeeAAAgtkoAkkkkkooppppttppppppgppteoooooottkttttkkkktAAApgookkkkkp</th>\n",
       "      <td>0.000</td>\n",
       "      <td>0.333</td>\n",
       "      <td>0.000</td>\n",
       "    </tr>\n",
       "    <tr>\n",
       "      <th>gooooAAAAAAAAAkkkkkkooooAAAeppppppgeeeeepAAppeektetttgggogptttttttkppAAAApetAeegggtttteetttttppAAAAA</th>\n",
       "      <td>0.000</td>\n",
       "      <td>0.333</td>\n",
       "      <td>0.000</td>\n",
       "    </tr>\n",
       "    <tr>\n",
       "      <th>ekogoAgkepokogoppAttpAttgeekApegepApotpAAtpetgAtpopAttpAppAtkokettkgAttggokoogApppepogeApopogetpokog</th>\n",
       "      <td>0.333</td>\n",
       "      <td>0.000</td>\n",
       "      <td>0.000</td>\n",
       "    </tr>\n",
       "    <tr>\n",
       "      <th>AtAgegegegAgegetoAtetAogAooAoeAtegAgeotAoAgoetAteAteoegoeogetekoAoegAoegAtegAgeotAtAoAtetAtgeggAtAto</th>\n",
       "      <td>0.000</td>\n",
       "      <td>0.000</td>\n",
       "      <td>0.333</td>\n",
       "    </tr>\n",
       "    <tr>\n",
       "      <th>popoktgopogettpegAtkegotkogettpApepApegtgApeogokokApetkAgegokpepketpotttpAtkopepototpApettgotokotgok</th>\n",
       "      <td>0.333</td>\n",
       "      <td>0.000</td>\n",
       "      <td>0.000</td>\n",
       "    </tr>\n",
       "    <tr>\n",
       "      <th>okopottogttpetgopopotkepeppAgAgetpotpAtgookettgoketkokAgAttpgopAgtkAggAgekottgokAkopApAkopAtgtttpokp</th>\n",
       "      <td>0.333</td>\n",
       "      <td>0.000</td>\n",
       "      <td>0.000</td>\n",
       "    </tr>\n",
       "    <tr>\n",
       "      <th>kteoeoeoAoteoAgeoetoegAgeoekgeteoegetetAgeAoAttAtAteoAtetotAoAoeooegegAoetgeoAtegtAteteoAtAgegAgeAoA</th>\n",
       "      <td>0.000</td>\n",
       "      <td>0.000</td>\n",
       "      <td>0.333</td>\n",
       "    </tr>\n",
       "    <tr>\n",
       "      <th>tgAkoggAggAtpetkpAgegAgkepepookepepekogokogetkekekekegegotgekAAkoAtpottktkApAgtpegAkAgAkpopettgApogA</th>\n",
       "      <td>0.333</td>\n",
       "      <td>0.000</td>\n",
       "      <td>0.000</td>\n",
       "    </tr>\n",
       "    <tr>\n",
       "      <th>oeeoppppppoooAgggggoAAoookkppeoAApeoAkAAAAAAApkpppgpppkkkkAAAAkkkkeeepeeeeeekktppppkeegggoooooooooAA</th>\n",
       "      <td>0.000</td>\n",
       "      <td>0.333</td>\n",
       "      <td>0.000</td>\n",
       "    </tr>\n",
       "    <tr>\n",
       "      <th>ApgotgAApogotgopAgegAtkAgketgAtkpAgottpopopAgpekepokpAokettttpogotpegApAgopetgAgeketkotpokokApopegAt</th>\n",
       "      <td>0.333</td>\n",
       "      <td>0.000</td>\n",
       "      <td>0.000</td>\n",
       "    </tr>\n",
       "  </tbody>\n",
       "</table>\n",
       "</div>"
      ],
      "text/plain": [
       "                                                    P(langA)  P(langC)  \\\n",
       "pppooootgAookggggtttopAtttkkkeeggeeeeAAAgtkoAkk...     0.000     0.333   \n",
       "gooooAAAAAAAAAkkkkkkooooAAAeppppppgeeeeepAAppee...     0.000     0.333   \n",
       "ekogoAgkepokogoppAttpAttgeekApegepApotpAAtpetgA...     0.333     0.000   \n",
       "AtAgegegegAgegetoAtetAogAooAoeAtegAgeotAoAgoetA...     0.000     0.000   \n",
       "popoktgopogettpegAtkegotkogettpApepApegtgApeogo...     0.333     0.000   \n",
       "okopottogttpetgopopotkepeppAgAgetpotpAtgookettg...     0.333     0.000   \n",
       "kteoeoeoAoteoAgeoetoegAgeoekgeteoegetetAgeAoAtt...     0.000     0.000   \n",
       "tgAkoggAggAtpetkpAgegAgkepepookepepekogokogetke...     0.333     0.000   \n",
       "oeeoppppppoooAgggggoAAoookkppeoAApeoAkAAAAAAApk...     0.000     0.333   \n",
       "ApgotgAApogotgopAgegAtkAgketgAtkpAgottpopopAgpe...     0.333     0.000   \n",
       "\n",
       "                                                    P(langB)  \n",
       "pppooootgAookggggtttopAtttkkkeeggeeeeAAAgtkoAkk...     0.000  \n",
       "gooooAAAAAAAAAkkkkkkooooAAAeppppppgeeeeepAAppee...     0.000  \n",
       "ekogoAgkepokogoppAttpAttgeekApegepApotpAAtpetgA...     0.000  \n",
       "AtAgegegegAgegetoAtetAogAooAoeAtegAgeotAoAgoetA...     0.333  \n",
       "popoktgopogettpegAtkegotkogettpApepApegtgApeogo...     0.000  \n",
       "okopottogttpetgopopotkepeppAgAgetpotpAtgookettg...     0.000  \n",
       "kteoeoeoAoteoAgeoetoegAgeoekgeteoegetetAgeAoAtt...     0.333  \n",
       "tgAkoggAggAtpetkpAgegAgkepepookepepekogokogetke...     0.000  \n",
       "oeeoppppppoooAgggggoAAoookkppeoAApeoAkAAAAAAApk...     0.000  \n",
       "ApgotgAApogotgopAgegAtkAgketgAtkpAgottpopopAgpe...     0.000  "
      ]
     },
     "execution_count": 10,
     "metadata": {},
     "output_type": "execute_result"
    }
   ],
   "source": [
    "# Posterior distributions of the unlabeled tests\n",
    "\n",
    "# Suppress scientific notation\n",
    "np.set_printoptions(suppress=True)\n",
    "\n",
    "posteriors = []\n",
    "for string in test_symbols:\n",
    "    posteriors.append(get_posteriors(string, initial_distributions, transition_matrices))\n",
    "\n",
    "pd.DataFrame(posteriors, index=test_symbols, columns=('P(' + languages + ')'))"
   ]
  },
  {
   "cell_type": "markdown",
   "id": "unlikely-fellowship",
   "metadata": {},
   "source": [
    "## Speaker identification"
   ]
  },
  {
   "cell_type": "markdown",
   "id": "immediate-school",
   "metadata": {},
   "source": [
    "### Problem Statement\n",
    "\n",
    "There are three people in a room. Each says about 10 phonemes before being randomly interrupted by someone else. When they speak they all sound the same, however each person tends to use different phonemes in their speech. Specifically, we can model the following transition probabilities that someone will interrupt the current speaker: P(speaker i at time t+1 | speaker j at time t). We can also model the probability over phonemes given a particular speaker: P(phoneme | speaker i). "
   ]
  },
  {
   "cell_type": "code",
   "execution_count": 11,
   "id": "respiratory-values",
   "metadata": {
    "pycharm": {
     "name": "#%%\n"
    }
   },
   "outputs": [],
   "source": [
    "speakers_file = r'speaker.txt'\n",
    "\n",
    "with open(speakers_file) as f:\n",
    "    string = f.read()"
   ]
  },
  {
   "cell_type": "code",
   "execution_count": 12,
   "id": "consolidated-wedding",
   "metadata": {
    "pycharm": {
     "name": "#%%\n"
    }
   },
   "outputs": [
    {
     "data": {
      "text/plain": [
       "A    0\n",
       "e    1\n",
       "g    2\n",
       "k    3\n",
       "o    4\n",
       "p    5\n",
       "t    6\n",
       "dtype: int64"
      ]
     },
     "execution_count": 12,
     "metadata": {},
     "output_type": "execute_result"
    }
   ],
   "source": [
    "n_speakers = 3\n",
    "unique_symbols = sorted(set(string))\n",
    "\n",
    "# Series to map each symbol onto its index\n",
    "symbols = pd.Series(range(len(unique_symbols)), index=unique_symbols)\n",
    "symbols"
   ]
  },
  {
   "cell_type": "markdown",
   "id": "anticipated-currency",
   "metadata": {},
   "source": [
    "### Initializing parameters"
   ]
  },
  {
   "cell_type": "markdown",
   "id": "suburban-howard",
   "metadata": {},
   "source": [
    "To begin the process, we first initialize meaningful values for 3 parameters:\n",
    "\n",
    "$T$ - transition matrix, where $T_{ij}$ is the probability of transitioning from (hidden) state $i$ to state $j$. Can be initialized to meaningful values based on the known fact that each speaker pronounces about 10 phonemes at a time before transitioning, which can translate into the probability of approximately 90% of each state to stay (the diagonal) and 5% to transition to each of the other states.\n",
    "\n",
    "$\\pi$ - vector of initial probability distribution of the states so that $\\pi_i$ is the probability that the first state in the sequence is state $i$ (initialized to be approximately equal for each of the hidden states).\n",
    "\n",
    "$E$ - emission matrix, where $E_{jk}$ - probability of state $j$ to produce emission $k$ (a $3\\times7$ matrix given 3 states and 7 observations where rows sum up to 1). Initialized to approximately equal distribution of emissions for each hidden state.\n",
    "\n",
    "Additionally, in order to avoid initializing identical values for the parameters of all the states (so that they don't all converge to the same solution as a result of EM algorithm), we would take a sample from a Dirichlet distribution giving it the pre-initialized values as the alpha parameter so that the resulting probability does resemble the meaningful relationship (e.g., 90% to not transition and 5% to transition to each other state) but also is not identical across all states."
   ]
  },
  {
   "cell_type": "code",
   "execution_count": 13,
   "id": "senior-marathon",
   "metadata": {
    "pycharm": {
     "name": "#%%\n"
    }
   },
   "outputs": [
    {
     "data": {
      "text/plain": [
       "array([[0.90106925, 0.07590985, 0.0230209 ],\n",
       "       [0.06249317, 0.88754501, 0.04996181],\n",
       "       [0.01489817, 0.04029237, 0.94480946]])"
      ]
     },
     "execution_count": 13,
     "metadata": {},
     "output_type": "execute_result"
    }
   ],
   "source": [
    "# Initialize to approximately 90% of speaker staying the same (the diagonal) and ~10% to change (split among the rest)\n",
    "transition_matrix = np.array([np.random.dirichlet(dist) for dist in 5 + np.diag([90] * n_speakers)])\n",
    "transition_matrix"
   ]
  },
  {
   "cell_type": "code",
   "execution_count": 14,
   "id": "preceding-influence",
   "metadata": {
    "pycharm": {
     "name": "#%%\n"
    }
   },
   "outputs": [
    {
     "data": {
      "text/plain": [
       "array([0.34777775, 0.29560251, 0.35661974])"
      ]
     },
     "execution_count": 14,
     "metadata": {},
     "output_type": "execute_result"
    }
   ],
   "source": [
    "initial_distribution = np.random.dirichlet([100] * n_speakers)\n",
    "initial_distribution"
   ]
  },
  {
   "cell_type": "code",
   "execution_count": 15,
   "id": "micro-isaac",
   "metadata": {
    "pycharm": {
     "name": "#%%\n"
    }
   },
   "outputs": [
    {
     "data": {
      "text/plain": [
       "array([[0.1296276 , 0.14513003, 0.14055432, 0.13943913, 0.15318656,\n",
       "        0.16034876, 0.1317136 ],\n",
       "       [0.14666135, 0.12932869, 0.14239467, 0.13789181, 0.15103387,\n",
       "        0.13456875, 0.15812086],\n",
       "       [0.14292134, 0.16060757, 0.14985047, 0.12254389, 0.12950327,\n",
       "        0.14528189, 0.14929157]])"
      ]
     },
     "execution_count": 15,
     "metadata": {},
     "output_type": "execute_result"
    }
   ],
   "source": [
    "# approximately probability of each speaker to produce given symbol (rows - speakers - sum to 1)\n",
    "emission_matrix = np.array([np.random.dirichlet([100] * len(symbols)) for _ in range(n_speakers)])\n",
    "emission_matrix"
   ]
  },
  {
   "cell_type": "code",
   "execution_count": 16,
   "id": "hourly-purse",
   "metadata": {
    "pycharm": {
     "name": "#%%\n"
    }
   },
   "outputs": [
    {
     "data": {
      "text/plain": [
       "array([1, 4, 2, 2, 1, 2, 2, 0, 1, 2, 2, 1, 5, 2, 5, 5, 5, 4, 5, 5, 4, 2,\n",
       "       4, 5, 5, 5, 2, 4, 5, 5, 4, 4, 5, 1, 2, 0, 0, 4, 0, 0, 0, 6, 0, 6,\n",
       "       6, 6, 4, 4, 1, 5, 4, 4, 5, 5, 6, 1, 1, 1, 1, 4, 6, 5, 4, 5, 5, 5,\n",
       "       1, 1, 4, 1, 5, 4, 4, 4, 5, 4, 5, 2, 4, 4, 4, 1, 5, 4, 1, 5, 4, 6,\n",
       "       5, 4, 1, 2, 4, 2, 2, 2, 2, 2, 3, 1], dtype=int64)"
      ]
     },
     "execution_count": 16,
     "metadata": {},
     "output_type": "execute_result"
    }
   ],
   "source": [
    "observations = symbols[list(string)].values\n",
    "observations[:100]"
   ]
  },
  {
   "cell_type": "markdown",
   "id": "distinct-forty",
   "metadata": {},
   "source": [
    "## Training"
   ]
  },
  {
   "cell_type": "markdown",
   "id": "deadly-military",
   "metadata": {},
   "source": [
    "The EM algorithm starts with an Expectation step at which we compute the probability of the observed sequence (with $n$ being the number of hidden states, $N$ - the number of observations, $x_t$ - hidden state at time $t$): \n",
    "\n",
    "$\\begin{aligned}[t]\n",
    "    p(s_{1:N})\n",
    "        &= \\sum_{j=1}^n p (s_{1:N}, x_t = j)\n",
    "            & \\begin{array}{r}\n",
    "                \\text{sum over probability of the sequence} \\\\\n",
    "                \\text{and each of the hidden states}\n",
    "              \\end{array} \\\\\n",
    "        &= \\sum_{j=1}^n p(s_{1: t}, x_t=j) p(s_{t+1: N}| x_{x_{t}=j})\n",
    "            & \\begin{array}{r}\n",
    "                \\text{Bayes theorem } \\\\\n",
    "                \\text{and Markov property}\n",
    "              \\end{array} \\\\\n",
    "        &= \\sum_{j=1}^n \\alpha_{1:N}(j) \\cdot \\beta_{1:N}(j);\n",
    "\\end{aligned}$\n",
    "\n",
    "Then, both $\\alpha$ and $\\beta$ can be defined with a recursive formula:\n",
    "\n",
    "$\\begin{aligned}[t]\n",
    "    \\alpha_t(j) \n",
    "        &= \\sum_{i=0}^{n} \\alpha_{t - 1}(j) \\cdot E_{js_{t}} \\cdot T_{ij};\n",
    "            & \\begin{array}{r}\n",
    "                \\text{probability of being in state } j \\text{ at time } t \\\\ \n",
    "                \\text{and see the emission that was actually observed}\n",
    "              \\end{array} \\\\\n",
    "    \\beta_t(j) \n",
    "        &= \\sum_{i=0}^{n} \\beta_{t + 1}(j) \\cdot E_{is_{t+1}} \\cdot T_{ji}; \n",
    "            & \\begin{array}{r}\n",
    "                \\text{probability of observing all future events} \\\\ \n",
    "                \\text{given we're in state } j \\text{ at time } t\n",
    "              \\end{array} \\\n",
    "\\end{aligned}$\n",
    "\n",
    "given that:\n",
    "\n",
    "$\\begin{aligned}[t]\n",
    "    \\alpha_{0}(j) \n",
    "        &= \\pi_j; \\\\\n",
    "    \\beta_{0}(j) \n",
    "        &= 1; \\\\\n",
    "\\end{aligned}$\n",
    "\n",
    "\n",
    "Then, at the Maximization step, the new parameters are estimated as follows: \n",
    "\n",
    "$\\begin{aligned}[t]\n",
    "    T_{ij} \n",
    "        &= \\frac{\\sum_{t=1}^{N} p(x_t=i, x_{t+1}=j)}\n",
    "                {\\sum_{t=1}^N \\sum_{k} P(x_t=i, x_{t+1}=k)};\n",
    "            & \\begin{array}{r}\n",
    "                \\text{sum of probabilities to transition} \\\\\n",
    "                \\text{from state } i \\text{ to state } j \\text{ across all times } t\\\\\n",
    "                \\text{over the sum of probabilities to transition} \\\\\n",
    "                \\text{from state } i \\text{ to any state across all times } t\\\\\n",
    "              \\end{array} \\\\\\\\\n",
    "    E_{jk} \n",
    "        &= \\frac{\\sum^N_{t=1, \\text{if} s_t=k} p(x_t=j)}\n",
    "                {\\sum_{t=1}^N p(x_t=j)};\n",
    "            & \\begin{array}{r}\n",
    "                \\text{sum of probabilities of being in state } j \\\\ \n",
    "                \\text{ at times where we observe emission } k \\\\\n",
    "                \\text{over the probabilities of being in state } j \\\\ \n",
    "                \\text{at all times}\n",
    "              \\end{array} \\\\\\\\\n",
    "    \\pi_i \n",
    "        &= \\alpha_1(i) \\cdot \\beta_1(i);\n",
    "\\end{aligned}$\n",
    "\n",
    "Then, after several iterations between E- and M-step, the EM algorithm will (hopefully) converge to the most likely solution."
   ]
  },
  {
   "cell_type": "code",
   "execution_count": 7,
   "id": "miniature-tablet",
   "metadata": {
    "pycharm": {
     "name": "#%%\n"
    }
   },
   "outputs": [],
   "source": [
    "def forward(init_dist, trans_mat, emit_mat, obs, t=None):\n",
    "    if t is None:\n",
    "        t = len(obs) - 1\n",
    "    if t == 0:\n",
    "        alpha = np.zeros((len(init_dist), len(obs)))\n",
    "        alpha[:, 0] = init_dist * emit_mat[:, obs[0]]\n",
    "        alpha[:, 0] /= alpha[:, 0].sum()\n",
    "        return alpha\n",
    "    alpha = forward(init_dist, trans_mat, emit_mat, obs, t - 1)\n",
    "    alpha[:, t] = (trans_mat.T @ alpha[:, t - 1]) * emit_mat[:, obs[t]]\n",
    "    alpha[:, t] /= alpha[:, t].sum()  # normalize to avoid vanishing alpha\n",
    "    return alpha\n",
    "\n",
    "\n",
    "def backward(init_dist, trans_mat, emit_mat, obs, t=0):\n",
    "    if t == len(obs):\n",
    "        beta = np.zeros((len(init_dist), len(obs)))\n",
    "        beta[:, len(obs) - 1] = np.ones(len(init_dist))\n",
    "        return beta\n",
    "    beta = backward(init_dist, trans_mat, emit_mat, obs, t + 1)\n",
    "    beta[:, t - 1] = trans_mat @ (beta[:, t] * emit_mat[:, obs[t]])\n",
    "    beta[:, t - 1] /= beta[:, t - 1].sum()\n",
    "    return beta\n",
    "\n",
    "\n",
    "def expect(init_dist, trans_mat, emit_mat, obs):\n",
    "    alpha = forward(init_dist, trans_mat, emit_mat, obs)\n",
    "    beta = backward(init_dist, trans_mat, emit_mat, obs)\n",
    "    gamma = (alpha * beta)\n",
    "    likelihoods = (alpha[:, np.newaxis, 0: -1] * trans_mat[:, :, np.newaxis]\n",
    "                   * beta[np.newaxis, 0:, 1:] * emit_mat[np.newaxis, 0:, obs[1:]])\n",
    "    return gamma, likelihoods, obs  # return obs to nicely fit into maximize()\n",
    "\n",
    "\n",
    "def maximize(gamma, likelihoods, obs):\n",
    "    symbols = np.unique(obs)\n",
    "    new_trans_mat = np.sum(likelihoods, axis=2) / np.sum(likelihoods, axis=(1, 2))[:, np.newaxis]\n",
    "    new_emit_mat = np.zeros(emission_matrix.shape)\n",
    "    new_init_dist = gamma[:, 0]\n",
    "    for s in range(len(symbols)):\n",
    "        new_emit_mat[:, s] = np.sum(gamma[:, obs == symbols[s]], axis=1) / np.sum(gamma, axis=1)\n",
    "    return new_init_dist, new_trans_mat, new_emit_mat\n"
   ]
  },
  {
   "cell_type": "markdown",
   "id": "neural-operator",
   "metadata": {},
   "source": [
    "We can generate a test string based on the transition matrices from the language detection step, assuming 3 speakers speaking three different languages.\n",
    "\n",
    "To assess the performance, we can use homogeneity score which would assess how much it is the case that each cluster has samples from a single class (ranging 0-1), with low scores indicating low homogeneity and thus worse performance."
   ]
  },
  {
   "cell_type": "code",
   "execution_count": 20,
   "id": "formal-shoulder",
   "metadata": {
    "pycharm": {
     "name": "#%%\n"
    }
   },
   "outputs": [],
   "source": [
    "def generate_string(target_str_len=1000, avg_len_per_speaker=10):\n",
    "    \"\"\"\n",
    "    Generates a string based on the transition matrices and initial distributions of length `target_str_len`,\n",
    "    So that every speaker on average says `avg_len_per_speaker` phonemes.\n",
    "\n",
    "    :returns: tuple string, true_languages\n",
    "    \"\"\"\n",
    "    str_len = target_str_len\n",
    "    avg_len = avg_len_per_speaker\n",
    "    std = avg_len / 10\n",
    "    string = ''\n",
    "    unique_symbols = transition_matrices[0].index\n",
    "    true_langs = []\n",
    "    for speaking_for in np.abs(np.random.normal(avg_len, std, size=str_len // avg_len)).astype(int):\n",
    "        lang_i = np.random.choice(len(transition_matrices))\n",
    "        string += np.random.choice(unique_symbols, p=initial_distributions[lang_i])\n",
    "        true_langs.append(lang_i)\n",
    "        for step in range(speaking_for):\n",
    "            string += np.random.choice(unique_symbols, p=transition_matrices[lang_i][string[-1]])\n",
    "            true_langs.append(lang_i)\n",
    "    true_langs = np.array(true_langs)\n",
    "    return string, true_langs\n"
   ]
  },
  {
   "cell_type": "code",
   "execution_count": 21,
   "id": "freelance-trick",
   "metadata": {
    "pycharm": {
     "name": "#%%\n"
    }
   },
   "outputs": [],
   "source": [
    "def plot_ground_truth(true_langs):\n",
    "    for speaker_i in range(len(transition_matrices)):\n",
    "        plt.bar(np.argwhere(true_langs == speaker_i)[:, 0], [1] * (true_langs == speaker_i).sum(),\n",
    "                width=1, label=f'Speaker {speaker_i + 1}')\n",
    "    plt.title('Ground truth of distribution of languages (speakers) over time')\n",
    "    plt.xlabel('Position within the string ($t$)')\n",
    "    plt.legend()\n",
    "    plt.show()"
   ]
  },
  {
   "cell_type": "code",
   "execution_count": 22,
   "id": "copyrighted-current",
   "metadata": {
    "scrolled": false
   },
   "outputs": [
    {
     "name": "stdout",
     "output_type": "stream",
     "text": [
      "Test string: AoAteoeoegetetetAgoeoAoAAoAgetegAgAoAgetAggAAAAAAooekkktoopppppokkttttokgttttoooooAtAAAgkktttpoekptt\n"
     ]
    },
    {
     "data": {
      "image/png": "[encoded data removed]",
      "text/plain": [
       "<Figure size 432x288 with 1 Axes>"
      ]
     },
     "metadata": {
      "needs_background": "light"
     },
     "output_type": "display_data"
    }
   ],
   "source": [
    "string, true_langs = generate_string(1000, 50)\n",
    "print('Test string:', string[:100])\n",
    "plot_ground_truth(true_langs)"
   ]
  },
  {
   "cell_type": "code",
   "execution_count": 9,
   "id": "colored-johns",
   "metadata": {},
   "outputs": [],
   "source": [
    "def plot_posteriors(id, tm, em, obs):\n",
    "    \"\"\"Plots posteriors from HMM (`y`) as a stackplot\"\"\"\n",
    "    # Get likelihoods\n",
    "    y, _, _ = expect(id, tm, em, obs)\n",
    "    y = y / y.sum(axis=0)\n",
    "    \n",
    "    plt.figure(figsize=(10, 5))\n",
    "    plt.stackplot(range(len(observations)), y, labels=[f'Speaker {i}' for i in range(1, 4)])\n",
    "    plt.xlabel('Position within the string')\n",
    "    plt.ylabel('Probability of each speaker')\n",
    "    plt.legend()\n",
    "    plt.show()"
   ]
  },
  {
   "cell_type": "code",
   "execution_count": 8,
   "id": "lesbian-gross",
   "metadata": {
    "pycharm": {
     "name": "#%%\n"
    }
   },
   "outputs": [],
   "source": [
    "# Set new (shorter) variables to preserve initial values\n",
    "tm = transition_matrix.copy()\n",
    "em = emission_matrix.copy()\n",
    "id = initial_distribution.copy()\n",
    "obs = observations.copy()"
   ]
  },
  {
   "cell_type": "code",
   "execution_count": 23,
   "id": "transsexual-transsexual",
   "metadata": {
    "pycharm": {
     "name": "#%%\n"
    },
    "scrolled": false
   },
   "outputs": [
    {
     "name": "stdout",
     "output_type": "stream",
     "text": [
      "Homogeneity Score: 0.4286842055470264\n"
     ]
    },
    {
     "data": {
      "image/png": "[encoded data removed]",
      "text/plain": [
       "<Figure size 432x288 with 1 Axes>"
      ]
     },
     "metadata": {
      "needs_background": "light"
     },
     "output_type": "display_data"
    }
   ],
   "source": [
    "n_iter = 20\n",
    "\n",
    "for _ in range(n_iter):\n",
    "    id, tm, em = maximize(*expect(id, tm, em, obs))\n",
    "\n",
    "print(\"Homogeneity Score:\", homogeneity_score(true_langs, expect(id, tm, em, obs)[0].argmax(axis=1)))\n",
    "\n",
    "plot_posteriors(id, tm, em, obs)"
   ]
  }
 ],
 "metadata": {
  "kernelspec": {
   "display_name": "Python 3",
   "language": "python",
   "name": "python3"
  },
  "language_info": {
   "codemirror_mode": {
    "name": "ipython",
    "version": 3
   },
   "file_extension": ".py",
   "mimetype": "text/x-python",
   "name": "python",
   "nbconvert_exporter": "python",
   "pygments_lexer": "ipython3",
   "version": "3.9.0"
  },
  "toc": {
   "base_numbering": 1,
   "nav_menu": {},
   "number_sections": true,
   "sideBar": true,
   "skip_h1_title": false,
   "title_cell": "Table of Contents",
   "title_sidebar": "Contents",
   "toc_cell": false,
   "toc_position": {},
   "toc_section_display": true,
   "toc_window_display": false
  },
  "varInspector": {
   "cols": {
    "lenName": 16,
    "lenType": 16,
    "lenVar": 40
   },
   "kernels_config": {
    "python": {
     "delete_cmd_postfix": "",
     "delete_cmd_prefix": "del ",
     "library": "var_list.py",
     "varRefreshCmd": "print(var_dic_list())"
    },
    "r": {
     "delete_cmd_postfix": ") ",
     "delete_cmd_prefix": "rm(",
     "library": "var_list.r",
     "varRefreshCmd": "cat(var_dic_list()) "
    }
   },
   "types_to_exclude": [
    "module",
    "function",
    "builtin_function_or_method",
    "instance",
    "_Feature"
   ],
   "window_display": false
  }
 },
 "nbformat": 4,
 "nbformat_minor": 5
}
