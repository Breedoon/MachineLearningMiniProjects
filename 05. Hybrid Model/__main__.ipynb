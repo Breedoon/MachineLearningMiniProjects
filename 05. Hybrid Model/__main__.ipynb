{
 "cells": [
  {
   "cell_type": "markdown",
   "id": "informed-notice",
   "metadata": {},
   "source": [
    "# Loan Amount Optimization with a **_Hybrid Model_**"
   ]
  },
  {
   "cell_type": "markdown",
   "id": "experienced-margin",
   "metadata": {},
   "source": [
    "Here, we will be trying to predict the most optimal loan amount to lend to a person using two approaches: classification and regression, as well as their combination, using the [Lending Club dataset](https://www.kaggle.com/wordsforthewise/lending-club)."
   ]
  },
  {
   "cell_type": "markdown",
   "id": "alternative-athletics",
   "metadata": {},
   "source": [
    "## Data Acquisition"
   ]
  },
  {
   "cell_type": "code",
   "execution_count": 1,
   "id": "aware-carbon",
   "metadata": {
    "pycharm": {
     "is_executing": true,
     "name": "#%%\n"
    },
    "scrolled": true
   },
   "outputs": [],
   "source": [
    "import pandas as pd\n",
    "import numpy as np\n",
    "import matplotlib.pyplot as plt\n",
    "import seaborn as sns\n",
    "from datetime import datetime as dt\n",
    "\n",
    "from sklearn.decomposition import PCA\n",
    "from sklearn.preprocessing import scale, minmax_scale, StandardScaler\n",
    "from sklearn.metrics.pairwise import rbf_kernel\n",
    "from sklearn.ensemble import RandomForestClassifier, RandomForestRegressor\n",
    "from sklearn.svm import SVC, SVR\n",
    "from sklearn.linear_model import Ridge, RidgeCV, LogisticRegression, LogisticRegressionCV\n",
    "from sklearn.neighbors import KNeighborsClassifier, KNeighborsRegressor\n",
    "from sklearn.model_selection import GridSearchCV, RandomizedSearchCV\n",
    "from sklearn.model_selection import train_test_split\n",
    "from sklearn.metrics import f1_score, confusion_matrix, precision_score, recall_score, accuracy_score, r2_score, \\\n",
    "    mean_squared_error, explained_variance_score, classification_report, make_scorer\n",
    "from sklearn.pipeline import Pipeline\n",
    "from scipy.optimize import minimize"
   ]
  },
  {
   "cell_type": "markdown",
   "id": "regional-interface",
   "metadata": {},
   "source": [
    "For the purposes of building a simple model (and because my computer is incapable of processing the entire dataset), we can take just a slice of the datasets to work with. To make sure that our slice is representative, we can sample the datapoints randomly using the parameter `skiprows` parameter in pandas' `read_csv()` which we can configure using the helper function below to skip a row with a given probability. For now, we can set that probability to 99% (i.e., we would preserver 1% of the data, or about 22,000 datapoints in the accept dataset)."
   ]
  },
  {
   "cell_type": "code",
   "execution_count": 2,
   "id": "continent-width",
   "metadata": {
    "pycharm": {
     "is_executing": true,
     "name": "#%%\n"
    },
    "scrolled": true
   },
   "outputs": [],
   "source": [
    "file_acc = r\"C:\\Users\\breedoon\\Downloads\\accepted_2007_to_2018Q4.csv\"\n",
    "file_rej = r\"C:\\Users\\breedoon\\Downloads\\rejected_2007_to_2018Q4.csv\"\n",
    "\n",
    "np.random.seed(849)\n",
    "\n",
    "def get_row_skipper(preserve=0.5):\n",
    "    \"\"\"\n",
    "    Returns a callable that receives a row number and returns whether it should be skipped.\n",
    "\n",
    "    :param preserve: a probability for any row (except row 0) to not be skipped\n",
    "    :return: True if the row should be skipped or False otherwise\n",
    "    \"\"\"\n",
    "\n",
    "    def skip_random_rows(row_idx):\n",
    "        if row_idx == 0:\n",
    "            return False  # do not skip the header\n",
    "        return np.random.random() >= preserve\n",
    "\n",
    "    return skip_random_rows\n"
   ]
  },
  {
   "cell_type": "code",
   "execution_count": 3,
   "id": "reported-calibration",
   "metadata": {
    "pycharm": {
     "is_executing": true,
     "name": "#%%\n"
    },
    "scrolled": true
   },
   "outputs": [
    {
     "name": "stderr",
     "output_type": "stream",
     "text": [
      "c:\\users\\breedoon\\appdata\\local\\programs\\python\\python38-32\\lib\\site-packages\\IPython\\core\\interactiveshell.py:3145: DtypeWarning: Columns (0,19,118) have mixed types.Specify dtype option on import or set low_memory=False.\n",
      "  has_raised = await self.run_ast_nodes(code_ast.body, cell_name,\n"
     ]
    }
   ],
   "source": [
    "df_raw_acc = pd.read_csv(file_acc, skiprows=get_row_skipper(preserve=0.01))\n",
    "df_raw_rej = pd.read_csv(file_rej, skiprows=get_row_skipper(preserve=0.01))"
   ]
  },
  {
   "cell_type": "markdown",
   "id": "thermal-arthritis",
   "metadata": {},
   "source": [
    "## Modeling\n",
    "\n",
    "### Classification of loan approval\n",
    "\n",
    "We can start by building a classification model that, for any given applicant, would decide whether that applicant is eligible for a loan (i.e., whether we should classify him as accepted or rejected).\n",
    "\n",
    "#### Preparing the data"
   ]
  },
  {
   "cell_type": "code",
   "execution_count": 4,
   "id": "separate-gazette",
   "metadata": {
    "pycharm": {
     "is_executing": true,
     "name": "#%%\n"
    },
    "scrolled": true
   },
   "outputs": [],
   "source": [
    "shared_columns = ['loan_amnt', 'fico_range_low', 'dti', 'emp_length', 'addr_state']\n",
    "rej_to_acc_cols = {\n",
    "    'Amount Requested': 'loan_amnt',\n",
    "    'Application Date': 'date',  # used only to convert vantage scores to fico\n",
    "    'Risk_Score': 'fico_range_low',  # better to underestimates people's creditworthiness\n",
    "    'Debt-To-Income Ratio': 'dti',\n",
    "    'Employment Length': 'emp_length',\n",
    "    'State': 'addr_state',\n",
    "}\n",
    "\n",
    "df_classif_rej = df_raw_rej.rename(rej_to_acc_cols, axis=1)\n",
    "df_classif_acc = df_raw_acc[shared_columns].copy()"
   ]
  },
  {
   "cell_type": "markdown",
   "id": "careful-confidence",
   "metadata": {},
   "source": [
    "From the documentation of the reject dataset, we can see that the metric for 'Risk_Score' has changed on Nov 5th, 2013 from FICO to Vantage score, which are not exactly equivalent. So, for consistency, given the fact that accept database contains only FICO scores, we should convert all of the scores to FICO using a simplified [formula](https://www.credit-report-101.com/credit-report-archive/convert-vantage-fico/): FICO = (Vantagescore – 501) * 1.12 + 300."
   ]
  },
  {
   "cell_type": "code",
   "execution_count": 5,
   "id": "beneficial-munich",
   "metadata": {
    "pycharm": {
     "is_executing": true,
     "name": "#%%\n"
    },
    "scrolled": true
   },
   "outputs": [],
   "source": [
    "# convert from vantage to fico for consistency based on the formula from:\n",
    "# https://www.credit-report-101.com/credit-report-archive/convert-vantage-fico/\n",
    "\n",
    "date_of_switch_from_fico_to_vantage = dt(2013, 11, 5)\n",
    "\n",
    "rows_with_vantage_mask = pd.to_datetime(df_classif_rej['date']) >= date_of_switch_from_fico_to_vantage\n",
    "df_classif_rej.loc[rows_with_vantage_mask, 'fico_range_low'] = (df_classif_rej[rows_with_vantage_mask]['fico_range_low']\n",
    "                                                                - 501) * 1.12 + 300\n",
    "\n",
    "df_classif_rej.drop('date', axis=1, inplace=True)"
   ]
  },
  {
   "cell_type": "markdown",
   "id": "eastern-prevention",
   "metadata": {},
   "source": [
    "Then, we need to convert the reject DTI values into the same number format as the accept dataset (e.g., '55%' -> '55'):"
   ]
  },
  {
   "cell_type": "code",
   "execution_count": 6,
   "id": "everyday-assembly",
   "metadata": {
    "pycharm": {
     "is_executing": true,
     "name": "#%%\n"
    },
    "scrolled": true
   },
   "outputs": [],
   "source": [
    "df_classif_rej.loc[:, 'dti'] = df_classif_rej['dti'].str.replace('%', '').astype('float64')"
   ]
  },
  {
   "cell_type": "markdown",
   "id": "charitable-induction",
   "metadata": {},
   "source": [
    "Now we can combine the two datasets into one, and finish the remaining steps of preparing the data for the combined dataset.\n",
    "\n",
    "Also, since our goal is to ensure the person in question is actually eligible for the loan, we should mark as rejected those people who were initially accepted but ended up not being able to pay off the loan."
   ]
  },
  {
   "cell_type": "code",
   "execution_count": 7,
   "id": "outdoor-jacket",
   "metadata": {
    "pycharm": {
     "is_executing": true,
     "name": "#%%\n"
    },
    "scrolled": true
   },
   "outputs": [],
   "source": [
    "# adding the label\n",
    "df_classif_acc['accepted'] = True\n",
    "df_classif_rej['accepted'] = False\n",
    "\n",
    "# unmark those who were accepted but defaulted as rejected\n",
    "df_classif_acc.loc[df_raw_acc['loan_status'] == 'Default', 'accepted'] = False\n",
    "\n",
    "shared_columns.append('accepted')\n",
    "df_classif_combined = pd.concat([df_classif_acc[shared_columns], df_classif_rej[shared_columns]], ignore_index=True)\n"
   ]
  },
  {
   "cell_type": "markdown",
   "id": "sensitive-luther",
   "metadata": {},
   "source": [
    "And finally, we need to convert the employment length into a numeric variable:"
   ]
  },
  {
   "cell_type": "code",
   "execution_count": 8,
   "id": "democratic-flash",
   "metadata": {
    "pycharm": {
     "is_executing": true,
     "name": "#%%\n"
    },
    "scrolled": true
   },
   "outputs": [],
   "source": [
    "def emp_length_to_number(emp_length: pd.Series):\n",
    "    \"\"\"\n",
    "    Converts employment length of format 'n years' column to numbers.\n",
    "    >>> emp_length_to_number(pd.Series(['< 1 year', '1 year', '5 years', '10 years', '10+ years']))\n",
    "    pd.Series([0.0, 1.0, 5.0, 10.0, 11.0], dtype='float64')\n",
    "    \"\"\"\n",
    "    return (emp_length  # bring all to the same format of 'n years'\n",
    "            .replace('< 1 year', '0 years').replace('1 year', '1 years').replace('10+ years', '11 years')\n",
    "            .str[:-6]  # remove the 'years' part\n",
    "            .astype('float64'))  # convert to float to preserve nans\n"
   ]
  },
  {
   "cell_type": "code",
   "execution_count": 9,
   "id": "careful-shuttle",
   "metadata": {
    "pycharm": {
     "is_executing": true,
     "name": "#%%\n"
    },
    "scrolled": true
   },
   "outputs": [],
   "source": [
    "df_classif_combined.loc[:, 'emp_length'] = emp_length_to_number(df_classif_combined['emp_length'])"
   ]
  },
  {
   "cell_type": "code",
   "execution_count": 10,
   "id": "optical-confidentiality",
   "metadata": {
    "pycharm": {
     "is_executing": true,
     "name": "#%%\n"
    },
    "scrolled": true
   },
   "outputs": [],
   "source": [
    "df_classif_combined.dropna(inplace=True)"
   ]
  },
  {
   "cell_type": "code",
   "execution_count": 11,
   "id": "variable-thirty",
   "metadata": {
    "pycharm": {
     "is_executing": true,
     "name": "#%%\n"
    },
    "scrolled": true
   },
   "outputs": [],
   "source": [
    "columns_classif = ['loan_amnt', 'fico_range_low', 'dti', 'emp_length']\n",
    "\n",
    "x = df_classif_combined[columns_classif]\n",
    "y = df_classif_combined['accepted']\n",
    "\n",
    "seed = 56061\n",
    "x_train, x_test, y_train, y_test = train_test_split(x, y, random_state=seed)"
   ]
  },
  {
   "cell_type": "markdown",
   "id": "seventh-brand",
   "metadata": {},
   "source": [
    "#### Model Selection\n",
    "\n",
    "##### Choosing the model type and its parameters"
   ]
  },
  {
   "cell_type": "markdown",
   "id": "polish-estonia",
   "metadata": {},
   "source": [
    "To choose the right model and make sure it does not overfit, we can run a standard 5-fold cross-validation on 3 popular classification models: KNN, Random Forest, and Logistic Regression, and choose the one that obtains the highest score across all 5 folds.\n",
    "\n",
    "There are multiple metrics that would help us score the candidate models, and to choose one we need to consider the context of the application of our model. In our case, representing the loan sponsor, we would be far more sensitive to false positives than to false negatives (i.e., we would rather underfund somebody than give somebody a loan they won't pay back), which means that the more appropriate metric for us to use would be precision."
   ]
  },
  {
   "cell_type": "code",
   "execution_count": 12,
   "id": "handy-torture",
   "metadata": {
    "pycharm": {
     "is_executing": true,
     "name": "#%%\n"
    },
    "scrolled": true
   },
   "outputs": [],
   "source": [
    "classifiers = [\n",
    "    KNeighborsClassifier, RandomForestClassifier, LogisticRegression\n",
    "]\n",
    "\n",
    "param_grids = [\n",
    "    dict(n_neighbors=[1, 5, 10, 50]),\n",
    "    dict(n_estimators=[10, 50, 100, 300],\n",
    "         max_depth=[3, 10, None],\n",
    "         max_features=['auto', 'sqrt']),\n",
    "    dict(C=[0.01, 0.1, 1, 10, 100])\n",
    "]"
   ]
  },
  {
   "cell_type": "code",
   "execution_count": 13,
   "id": "skilled-rubber",
   "metadata": {
    "pycharm": {
     "is_executing": true,
     "name": "#%%\n"
    },
    "scrolled": true
   },
   "outputs": [
    {
     "name": "stdout",
     "output_type": "stream",
     "text": [
      "Training KNeighborsClassifier...\n",
      "Fitting 5 folds for each of 4 candidates, totalling 20 fits\n"
     ]
    },
    {
     "name": "stderr",
     "output_type": "stream",
     "text": [
      "[Parallel(n_jobs=-1)]: Using backend LokyBackend with 8 concurrent workers.\n",
      "[Parallel(n_jobs=-1)]: Done   2 tasks      | elapsed:    7.0s\n",
      "[Parallel(n_jobs=-1)]: Done  10 out of  20 | elapsed:    9.5s remaining:    9.5s\n",
      "[Parallel(n_jobs=-1)]: Done  15 out of  20 | elapsed:    9.8s remaining:    3.2s\n",
      "[Parallel(n_jobs=-1)]: Done  20 out of  20 | elapsed:   12.2s remaining:    0.0s\n",
      "[Parallel(n_jobs=-1)]: Done  20 out of  20 | elapsed:   12.2s finished\n"
     ]
    },
    {
     "name": "stdout",
     "output_type": "stream",
     "text": [
      "KNeighborsClassifier\n",
      "Best params: {'n_neighbors': 1}\n",
      "Best score: 0.8665328683049708\n",
      "\n",
      "Training RandomForestClassifier...\n",
      "Fitting 5 folds for each of 24 candidates, totalling 120 fits\n"
     ]
    },
    {
     "name": "stderr",
     "output_type": "stream",
     "text": [
      "[Parallel(n_jobs=-1)]: Using backend LokyBackend with 8 concurrent workers.\n",
      "[Parallel(n_jobs=-1)]: Done   2 tasks      | elapsed:    0.7s\n",
      "[Parallel(n_jobs=-1)]: Done  56 tasks      | elapsed:   48.3s\n",
      "[Parallel(n_jobs=-1)]: Done 120 out of 120 | elapsed:  2.6min finished\n"
     ]
    },
    {
     "name": "stdout",
     "output_type": "stream",
     "text": [
      "RandomForestClassifier\n",
      "Best params: {'max_depth': None, 'max_features': 'auto', 'n_estimators': 10}\n",
      "Best score: 0.9280195213948943\n",
      "\n",
      "Training LogisticRegression...\n",
      "Fitting 5 folds for each of 5 candidates, totalling 25 fits\n"
     ]
    },
    {
     "name": "stderr",
     "output_type": "stream",
     "text": [
      "[Parallel(n_jobs=-1)]: Using backend LokyBackend with 8 concurrent workers.\n",
      "[Parallel(n_jobs=-1)]: Done   2 tasks      | elapsed:    1.8s\n",
      "[Parallel(n_jobs=-1)]: Done  16 out of  25 | elapsed:    5.0s remaining:    2.8s\n",
      "[Parallel(n_jobs=-1)]: Done  22 out of  25 | elapsed:    6.2s remaining:    0.8s\n",
      "[Parallel(n_jobs=-1)]: Done  25 out of  25 | elapsed:    6.8s finished\n"
     ]
    },
    {
     "name": "stdout",
     "output_type": "stream",
     "text": [
      "LogisticRegression\n",
      "Best params: {'C': 0.1}\n",
      "Best score: 0.8398147906364054\n",
      "\n"
     ]
    },
    {
     "name": "stderr",
     "output_type": "stream",
     "text": [
      "c:\\users\\breedoon\\appdata\\local\\programs\\python\\python38-32\\lib\\site-packages\\sklearn\\linear_model\\_logistic.py:762: ConvergenceWarning: lbfgs failed to converge (status=1):\n",
      "STOP: TOTAL NO. of ITERATIONS REACHED LIMIT.\n",
      "\n",
      "Increase the number of iterations (max_iter) or scale the data as shown in:\n",
      "    https://scikit-learn.org/stable/modules/preprocessing.html\n",
      "Please also refer to the documentation for alternative solver options:\n",
      "    https://scikit-learn.org/stable/modules/linear_model.html#logistic-regression\n",
      "  n_iter_i = _check_optimize_result(\n"
     ]
    }
   ],
   "source": [
    "best_params = []\n",
    "best_scores = []\n",
    "\n",
    "for i in range(len(classifiers)):\n",
    "    print(f'Training {classifiers[i].__name__}...')\n",
    "    model = classifiers[i]()\n",
    "\n",
    "    grid_search = GridSearchCV(model, n_jobs=-1, param_grid=param_grids[i], verbose=5,\n",
    "                               scoring=make_scorer(precision_score))\n",
    "    grid_search.fit(x_train, y_train)\n",
    "\n",
    "    best_params.append(grid_search.best_params_)\n",
    "    best_scores.append(grid_search.best_score_)\n",
    "\n",
    "    print(classifiers[i].__name__)\n",
    "    print('Best params:', grid_search.best_params_)\n",
    "    print('Best score:', grid_search.best_score_, end='\\n\\n')"
   ]
  },
  {
   "cell_type": "code",
   "execution_count": 14,
   "id": "short-static",
   "metadata": {
    "pycharm": {
     "is_executing": true,
     "name": "#%%\n"
    },
    "scrolled": true
   },
   "outputs": [
    {
     "name": "stdout",
     "output_type": "stream",
     "text": [
      "Best classifier: RandomForestClassifier\n",
      "Precision: 0.9298054191671213\n",
      "\n"
     ]
    }
   ],
   "source": [
    "best_idx = max(range(len(classifiers)), key=lambda i: best_scores[i])\n",
    "model_classif = classifiers[best_idx](**best_params[best_idx]).fit(x_train, y_train)\n",
    "y_pred = model_classif.predict(x_test)\n",
    "\n",
    "print(f'Best classifier: {classifiers[best_idx].__name__}')\n",
    "print('Precision:', f\"{precision_score(y_test, y_pred)}\", end='\\n\\n')\n"
   ]
  },
  {
   "cell_type": "markdown",
   "id": "chubby-cover",
   "metadata": {},
   "source": [
    "##### Picking a confidence threshold\n",
    "\n",
    "After having picked the best model parameters that give us the highest precision at the standard confidence threshold of 0.5, we might try to manipulate this threshold to see if we can get better values and whether it would be worth it."
   ]
  },
  {
   "cell_type": "code",
   "execution_count": 15,
   "id": "prescribed-sunday",
   "metadata": {
    "code_folding": [],
    "pycharm": {
     "is_executing": true,
     "name": "#%%\n"
    },
    "scrolled": true
   },
   "outputs": [],
   "source": [
    "def filled_confusion_matrix(y_true, y_pred, classes=(False, True), normalize=False):\n",
    "    conf_m = confusion_matrix(y_true, y_pred)\n",
    "    if normalize:\n",
    "        conf_m = conf_m / conf_m.sum()\n",
    "    return pd.DataFrame(conf_m,\n",
    "                        index=pd.Series(classes, name='True'),\n",
    "                        columns=pd.Series(classes, name='Pred'))\n",
    "\n",
    "\n",
    "def get_proba_predictions(model, x, threshold=0.5):\n",
    "    \"\"\"\n",
    "    Returns predictions of the given sklearn model based on the threshold of the prediction probability\n",
    "    \"\"\"\n",
    "    return model.predict_proba(x).transpose()[1] >= threshold\n",
    "\n",
    "\n",
    "def get_threshold_scores(model, x_test, y_test, scorers=(precision_score, recall_score, f1_score, accuracy_score),\n",
    "                         min_thr=0.1, max_thr=0.5, step=0.1):\n",
    "    \"\"\"\n",
    "    Iterates through all possible thresholds and returns their respective accuracies within the model\n",
    "    :return:  tuple of (thresholds, scores)\n",
    "    \"\"\"\n",
    "    thresholds = np.arange(min_thr, max_thr + step, step)\n",
    "    scores = []\n",
    "\n",
    "    y_pred_proba = model.predict_proba(x_test).transpose()[1]\n",
    "\n",
    "    for scorer in scorers:\n",
    "        scorer_scores = []\n",
    "        for threshold in thresholds:\n",
    "            y_pred = y_pred_proba >= threshold\n",
    "            scorer_scores.append(scorer(y_test, y_pred))\n",
    "        scores.append(scorer_scores)\n",
    "    return thresholds, np.array(scores)\n",
    "\n",
    "\n",
    "def find_best_thresholds(model, x_test, y_test, **kwargs):\n",
    "    thresholds, scores = get_threshold_scores(model, x_test, y_test, **kwargs)\n",
    "    max_inds = scores.argmax(axis=1)\n",
    "    return thresholds[max_inds], scores.max(axis=1)\n",
    "\n",
    "\n",
    "def plot_thresholds(model, x_test, y_test, scorers=(precision_score, recall_score, f1_score, accuracy_score), **kwargs):\n",
    "    thresholds, scores = get_threshold_scores(model, x_test, y_test, scorers=scorers, **kwargs)\n",
    "    for i in range(len(scorers)):\n",
    "        plt.plot(thresholds, scores[i], label=scorers[i].__name__)\n",
    "    plt.title('Score depending on the threshold of ' + type(model).__name__)\n",
    "    plt.legend()\n",
    "    plt.grid()\n",
    "\n",
    "    plt.xlabel('Confidence threshold')\n",
    "    plt.ylabel('Score')\n",
    "\n",
    "    plt.show()\n"
   ]
  },
  {
   "cell_type": "code",
   "execution_count": 16,
   "id": "subject-munich",
   "metadata": {
    "pycharm": {
     "is_executing": true,
     "name": "#%%\n"
    },
    "scrolled": true
   },
   "outputs": [
    {
     "data": {
      "image/png": "[encoded data removed]",
      "text/plain": [
       "<Figure size 432x288 with 1 Axes>"
      ]
     },
     "metadata": {
      "needs_background": "light"
     },
     "output_type": "display_data"
    }
   ],
   "source": [
    "plot_thresholds(model_classif, x_test, y_test, min_thr=0, max_thr=1, step=0.05)"
   ]
  },
  {
   "cell_type": "markdown",
   "id": "detailed-accident",
   "metadata": {},
   "source": [
    "As we can see from the graph, precision tends upward as the threshold increases reaching almost 100%. However, we can also see that recall follows a downward trend (as expected) and sees the greatest falls between the thresholds of about 0.9 and 0.95 where it drops from over 0.8 to about 0.65 while precision only barely increases. A smaller drop occurs around the threshold of 0.8, and an even smaller one around 0.6. So, we can take a closer look at the confusion matrices at those thresholds to make a final decision about them. \n",
    "\n",
    "First, for comparison, we can look at the default confusion matrix with a threshold of 0.5:"
   ]
  },
  {
   "cell_type": "code",
   "execution_count": 17,
   "id": "alternate-zambia",
   "metadata": {
    "pycharm": {
     "is_executing": true,
     "name": "#%%\n"
    },
    "scrolled": true
   },
   "outputs": [
    {
     "data": {
      "text/html": [
       "<div>\n",
       "<style scoped>\n",
       "    .dataframe tbody tr th:only-of-type {\n",
       "        vertical-align: middle;\n",
       "    }\n",
       "\n",
       "    .dataframe tbody tr th {\n",
       "        vertical-align: top;\n",
       "    }\n",
       "\n",
       "    .dataframe thead th {\n",
       "        text-align: right;\n",
       "    }\n",
       "</style>\n",
       "<table border=\"1\" class=\"dataframe\">\n",
       "  <thead>\n",
       "    <tr style=\"text-align: right;\">\n",
       "      <th>Pred</th>\n",
       "      <th>Rej</th>\n",
       "      <th>Acc</th>\n",
       "    </tr>\n",
       "    <tr>\n",
       "      <th>True</th>\n",
       "      <th></th>\n",
       "      <th></th>\n",
       "    </tr>\n",
       "  </thead>\n",
       "  <tbody>\n",
       "    <tr>\n",
       "      <th>Rej</th>\n",
       "      <td>0.788892</td>\n",
       "      <td>0.017105</td>\n",
       "    </tr>\n",
       "    <tr>\n",
       "      <th>Acc</th>\n",
       "      <td>0.006496</td>\n",
       "      <td>0.187507</td>\n",
       "    </tr>\n",
       "  </tbody>\n",
       "</table>\n",
       "</div>"
      ],
      "text/plain": [
       "Pred       Rej       Acc\n",
       "True                    \n",
       "Rej   0.788892  0.017105\n",
       "Acc   0.006496  0.187507"
      ]
     },
     "execution_count": 17,
     "metadata": {},
     "output_type": "execute_result"
    }
   ],
   "source": [
    "threshold = 0.5\n",
    "y_pred = get_proba_predictions(model_classif, x_test, threshold)\n",
    "filled_confusion_matrix(y_test, y_pred, ['Rej', 'Acc'], normalize=True)"
   ]
  },
  {
   "cell_type": "code",
   "execution_count": 18,
   "id": "lightweight-rough",
   "metadata": {
    "pycharm": {
     "is_executing": true
    },
    "scrolled": true
   },
   "outputs": [
    {
     "data": {
      "text/html": [
       "<div>\n",
       "<style scoped>\n",
       "    .dataframe tbody tr th:only-of-type {\n",
       "        vertical-align: middle;\n",
       "    }\n",
       "\n",
       "    .dataframe tbody tr th {\n",
       "        vertical-align: top;\n",
       "    }\n",
       "\n",
       "    .dataframe thead th {\n",
       "        text-align: right;\n",
       "    }\n",
       "</style>\n",
       "<table border=\"1\" class=\"dataframe\">\n",
       "  <thead>\n",
       "    <tr style=\"text-align: right;\">\n",
       "      <th>Pred</th>\n",
       "      <th>Rej</th>\n",
       "      <th>Acc</th>\n",
       "    </tr>\n",
       "    <tr>\n",
       "      <th>True</th>\n",
       "      <th></th>\n",
       "      <th></th>\n",
       "    </tr>\n",
       "  </thead>\n",
       "  <tbody>\n",
       "    <tr>\n",
       "      <th>Rej</th>\n",
       "      <td>0.792068</td>\n",
       "      <td>0.013929</td>\n",
       "    </tr>\n",
       "    <tr>\n",
       "      <th>Acc</th>\n",
       "      <td>0.009491</td>\n",
       "      <td>0.184512</td>\n",
       "    </tr>\n",
       "  </tbody>\n",
       "</table>\n",
       "</div>"
      ],
      "text/plain": [
       "Pred       Rej       Acc\n",
       "True                    \n",
       "Rej   0.792068  0.013929\n",
       "Acc   0.009491  0.184512"
      ]
     },
     "execution_count": 18,
     "metadata": {},
     "output_type": "execute_result"
    }
   ],
   "source": [
    "threshold = 0.6\n",
    "y_pred = get_proba_predictions(model_classif, x_test, threshold)\n",
    "filled_confusion_matrix(y_test, y_pred, ['Rej', 'Acc'], normalize=True)"
   ]
  },
  {
   "cell_type": "code",
   "execution_count": 19,
   "id": "vanilla-walker",
   "metadata": {
    "pycharm": {
     "is_executing": true
    },
    "scrolled": true
   },
   "outputs": [
    {
     "data": {
      "text/html": [
       "<div>\n",
       "<style scoped>\n",
       "    .dataframe tbody tr th:only-of-type {\n",
       "        vertical-align: middle;\n",
       "    }\n",
       "\n",
       "    .dataframe tbody tr th {\n",
       "        vertical-align: top;\n",
       "    }\n",
       "\n",
       "    .dataframe thead th {\n",
       "        text-align: right;\n",
       "    }\n",
       "</style>\n",
       "<table border=\"1\" class=\"dataframe\">\n",
       "  <thead>\n",
       "    <tr style=\"text-align: right;\">\n",
       "      <th>Pred</th>\n",
       "      <th>Rej</th>\n",
       "      <th>Acc</th>\n",
       "    </tr>\n",
       "    <tr>\n",
       "      <th>True</th>\n",
       "      <th></th>\n",
       "      <th></th>\n",
       "    </tr>\n",
       "  </thead>\n",
       "  <tbody>\n",
       "    <tr>\n",
       "      <th>Rej</th>\n",
       "      <td>0.797589</td>\n",
       "      <td>0.008408</td>\n",
       "    </tr>\n",
       "    <tr>\n",
       "      <th>Acc</th>\n",
       "      <td>0.020678</td>\n",
       "      <td>0.173325</td>\n",
       "    </tr>\n",
       "  </tbody>\n",
       "</table>\n",
       "</div>"
      ],
      "text/plain": [
       "Pred       Rej       Acc\n",
       "True                    \n",
       "Rej   0.797589  0.008408\n",
       "Acc   0.020678  0.173325"
      ]
     },
     "execution_count": 19,
     "metadata": {},
     "output_type": "execute_result"
    }
   ],
   "source": [
    "threshold = 0.8\n",
    "y_pred = get_proba_predictions(model_classif, x_test, threshold)\n",
    "filled_confusion_matrix(y_test, y_pred, ['Rej', 'Acc'], normalize=True)"
   ]
  },
  {
   "cell_type": "code",
   "execution_count": 20,
   "id": "separated-assembly",
   "metadata": {
    "pycharm": {
     "is_executing": true
    },
    "scrolled": true
   },
   "outputs": [
    {
     "data": {
      "text/html": [
       "<div>\n",
       "<style scoped>\n",
       "    .dataframe tbody tr th:only-of-type {\n",
       "        vertical-align: middle;\n",
       "    }\n",
       "\n",
       "    .dataframe tbody tr th {\n",
       "        vertical-align: top;\n",
       "    }\n",
       "\n",
       "    .dataframe thead th {\n",
       "        text-align: right;\n",
       "    }\n",
       "</style>\n",
       "<table border=\"1\" class=\"dataframe\">\n",
       "  <thead>\n",
       "    <tr style=\"text-align: right;\">\n",
       "      <th>Pred</th>\n",
       "      <th>Rej</th>\n",
       "      <th>Acc</th>\n",
       "    </tr>\n",
       "    <tr>\n",
       "      <th>True</th>\n",
       "      <th></th>\n",
       "      <th></th>\n",
       "    </tr>\n",
       "  </thead>\n",
       "  <tbody>\n",
       "    <tr>\n",
       "      <th>Rej</th>\n",
       "      <td>0.800152</td>\n",
       "      <td>0.005846</td>\n",
       "    </tr>\n",
       "    <tr>\n",
       "      <th>Acc</th>\n",
       "      <td>0.033958</td>\n",
       "      <td>0.160045</td>\n",
       "    </tr>\n",
       "  </tbody>\n",
       "</table>\n",
       "</div>"
      ],
      "text/plain": [
       "Pred       Rej       Acc\n",
       "True                    \n",
       "Rej   0.800152  0.005846\n",
       "Acc   0.033958  0.160045"
      ]
     },
     "execution_count": 20,
     "metadata": {},
     "output_type": "execute_result"
    }
   ],
   "source": [
    "threshold = 0.9\n",
    "y_pred = get_proba_predictions(model_classif, x_test, threshold)\n",
    "filled_confusion_matrix(y_test, y_pred, ['Rej', 'Acc'], normalize=True)"
   ]
  },
  {
   "cell_type": "code",
   "execution_count": 21,
   "id": "hired-knock",
   "metadata": {
    "pycharm": {
     "is_executing": true
    },
    "scrolled": true
   },
   "outputs": [
    {
     "data": {
      "text/html": [
       "<div>\n",
       "<style scoped>\n",
       "    .dataframe tbody tr th:only-of-type {\n",
       "        vertical-align: middle;\n",
       "    }\n",
       "\n",
       "    .dataframe tbody tr th {\n",
       "        vertical-align: top;\n",
       "    }\n",
       "\n",
       "    .dataframe thead th {\n",
       "        text-align: right;\n",
       "    }\n",
       "</style>\n",
       "<table border=\"1\" class=\"dataframe\">\n",
       "  <thead>\n",
       "    <tr style=\"text-align: right;\">\n",
       "      <th>Pred</th>\n",
       "      <th>Rej</th>\n",
       "      <th>Acc</th>\n",
       "    </tr>\n",
       "    <tr>\n",
       "      <th>True</th>\n",
       "      <th></th>\n",
       "      <th></th>\n",
       "    </tr>\n",
       "  </thead>\n",
       "  <tbody>\n",
       "    <tr>\n",
       "      <th>Rej</th>\n",
       "      <td>0.802642</td>\n",
       "      <td>0.003356</td>\n",
       "    </tr>\n",
       "    <tr>\n",
       "      <th>Acc</th>\n",
       "      <td>0.067266</td>\n",
       "      <td>0.126737</td>\n",
       "    </tr>\n",
       "  </tbody>\n",
       "</table>\n",
       "</div>"
      ],
      "text/plain": [
       "Pred       Rej       Acc\n",
       "True                    \n",
       "Rej   0.802642  0.003356\n",
       "Acc   0.067266  0.126737"
      ]
     },
     "execution_count": 21,
     "metadata": {},
     "output_type": "execute_result"
    }
   ],
   "source": [
    "threshold = 0.95\n",
    "y_pred = get_proba_predictions(model_classif, x_test, threshold)\n",
    "filled_confusion_matrix(y_test, y_pred, ['Rej', 'Acc'], normalize=True)"
   ]
  },
  {
   "cell_type": "markdown",
   "id": "cubic-oregon",
   "metadata": {},
   "source": [
    "As we can see, with the default threshold of 0.5, our model advises us to fund an uncreditworthy person 1.7% of the time while it tells us to reject a person who could've been funded 0.6% of the time, leaving us with 18% of people who were correctly classified as creditworthy and whom we would fund. On the other end of the spectrum, a threshold of 0.95 significantly reduces the  chances of funding uncreditworthy people to 0.3% but leaves us with just 12% of those to fund with the remaining 6% being mistakenly marked as uncreditworhy. The remaining thresholds provide us with several intermediate values which in practice would be chosen based on risk aversion of the sponsor, but for our purposes we can pick a threshold of 0.8, which halves the number of false positives to 0.8% while keeping the number of true positives at a relatively high 17%."
   ]
  },
  {
   "cell_type": "markdown",
   "id": "artificial-assumption",
   "metadata": {},
   "source": [
    "## Regression model of loan amount\n",
    "\n",
    "Now, after we potentially filtered out the ineligible applicants, we can focus on determining the optimal value of the loan that an applicant should receive. Given we're working with alread accepted applicants\n",
    "\n",
    "### Preparing the data"
   ]
  },
  {
   "cell_type": "code",
   "execution_count": 22,
   "id": "seventh-culture",
   "metadata": {
    "pycharm": {
     "is_executing": true,
     "name": "#%%\n"
    },
    "scrolled": true
   },
   "outputs": [],
   "source": [
    "known_columns = ['addr_state', 'annual_inc', 'annual_inc_joint', 'application_type', 'dti', 'dti_joint', 'emp_length',\n",
    "                 'fico_range_high', 'fico_range_low', 'home_ownership', 'loan_amnt', 'purpose']\n",
    "df_regr = df_raw_acc[known_columns].copy()"
   ]
  },
  {
   "cell_type": "markdown",
   "id": "impossible-timothy",
   "metadata": {},
   "source": [
    "As we can see, some of the columns are related to joint loan applications, which, ideally, would require building a separate model, but in this case, we might want to check if these applications comprise a significant portion of the application pool for us to care about it, and if they don't, we might just get rid of them for the sake of simplicity."
   ]
  },
  {
   "cell_type": "code",
   "execution_count": 23,
   "id": "compound-liabilities",
   "metadata": {
    "pycharm": {
     "is_executing": true,
     "name": "#%%\n"
    },
    "scrolled": true
   },
   "outputs": [
    {
     "data": {
      "text/plain": [
       "application_type\n",
       "Individual    0.945637\n",
       "Joint App     0.054319\n",
       "Name: application_type, dtype: float64"
      ]
     },
     "execution_count": 23,
     "metadata": {},
     "output_type": "execute_result"
    }
   ],
   "source": [
    "df_regr.groupby('application_type')['application_type'].count() / len(df_regr)"
   ]
  },
  {
   "cell_type": "markdown",
   "id": "outside-break",
   "metadata": {},
   "source": [
    "As we can see, about 95% of all applications are non-joint so we won't lose much by getting rid of them entirely."
   ]
  },
  {
   "cell_type": "code",
   "execution_count": 24,
   "id": "august-butterfly",
   "metadata": {
    "pycharm": {
     "is_executing": true,
     "name": "#%%\n"
    },
    "scrolled": true
   },
   "outputs": [],
   "source": [
    "df_regr.drop(['annual_inc_joint', 'application_type', 'dti_joint'], axis=1, inplace=True)"
   ]
  },
  {
   "cell_type": "markdown",
   "id": "bright-carolina",
   "metadata": {},
   "source": [
    "Then, we, similarly, we need to convert the employment length into a number:"
   ]
  },
  {
   "cell_type": "code",
   "execution_count": 25,
   "id": "successful-animal",
   "metadata": {
    "pycharm": {
     "is_executing": true,
     "name": "#%%\n"
    },
    "scrolled": true
   },
   "outputs": [],
   "source": [
    "df_regr.loc[:, 'emp_length'] = emp_length_to_number(df_regr['emp_length'])\n",
    "df_regr.dropna(inplace=True)"
   ]
  },
  {
   "cell_type": "markdown",
   "id": "desirable-reflection",
   "metadata": {},
   "source": [
    "Now, we have a few categorical variables which we would need to convert to dummy variables in order to use in a regression model:"
   ]
  },
  {
   "cell_type": "code",
   "execution_count": 26,
   "id": "wooden-level",
   "metadata": {
    "pycharm": {
     "is_executing": true,
     "name": "#%%\n"
    },
    "scrolled": true
   },
   "outputs": [],
   "source": [
    "categorical_cols = ['addr_state', 'home_ownership', 'purpose']\n",
    "dummies = pd.get_dummies(df_regr[categorical_cols])\n",
    "df_regr.loc[:, dummies.columns] = dummies"
   ]
  },
  {
   "cell_type": "code",
   "execution_count": 27,
   "id": "collectible-retro",
   "metadata": {
    "pycharm": {
     "is_executing": true,
     "name": "#%%\n"
    },
    "scrolled": true
   },
   "outputs": [],
   "source": [
    "columns_regr = ['annual_inc', 'dti', 'emp_length', 'fico_range_low']\n",
    "y_col = 'loan_amnt'\n",
    "x_cols = columns_regr + dummies.columns.tolist()\n",
    "\n",
    "y = df_regr[y_col]\n",
    "x = df_regr[x_cols]\n",
    "\n",
    "seed = 38429\n",
    "x_train, x_test, y_train, y_test = train_test_split(x, y, random_state=seed)"
   ]
  },
  {
   "cell_type": "markdown",
   "id": "renewable-penny",
   "metadata": {},
   "source": [
    "To normalize our data to be easily applied in regression models, we should preprocess it to having the same means and variances:"
   ]
  },
  {
   "cell_type": "code",
   "execution_count": 28,
   "id": "facial-consensus",
   "metadata": {
    "pycharm": {
     "is_executing": true,
     "name": "#%%\n"
    },
    "scrolled": true
   },
   "outputs": [],
   "source": [
    "x_scaler = StandardScaler().fit(x_train)\n",
    "x_train = x_scaler.transform(x_train)"
   ]
  },
  {
   "cell_type": "markdown",
   "id": "blessed-referral",
   "metadata": {},
   "source": [
    "### Model selection"
   ]
  },
  {
   "cell_type": "markdown",
   "id": "technological-trail",
   "metadata": {},
   "source": [
    "We can try a few models to perform this regression task, a Ridge Linear Regression, and a Random Forest."
   ]
  },
  {
   "cell_type": "code",
   "execution_count": 29,
   "id": "surgical-challenge",
   "metadata": {
    "pycharm": {
     "is_executing": true,
     "name": "#%%\n"
    },
    "scrolled": true
   },
   "outputs": [],
   "source": [
    "def get_y_pred_preprocessed(model, x_test, x_scaler=x_scaler):\n",
    "    return model.predict(x_scaler.transform(x_test))"
   ]
  },
  {
   "cell_type": "code",
   "execution_count": 30,
   "id": "growing-information",
   "metadata": {
    "pycharm": {
     "is_executing": true,
     "name": "#%%\n"
    },
    "scrolled": true
   },
   "outputs": [
    {
     "data": {
      "text/plain": [
       "0.012050022536270966"
      ]
     },
     "execution_count": 30,
     "metadata": {},
     "output_type": "execute_result"
    }
   ],
   "source": [
    "model = RidgeCV(alphas=[0.01, 0.1, 1, 10, 100])\n",
    "model.fit(x_train, y_train)\n",
    "\n",
    "y_pred = get_y_pred_preprocessed(model, x_test, x_scaler)\n",
    "explained_variance_score(y_test, y_pred)"
   ]
  },
  {
   "cell_type": "code",
   "execution_count": 31,
   "id": "excessive-rebecca",
   "metadata": {
    "pycharm": {
     "is_executing": true,
     "name": "#%%\n"
    },
    "scrolled": true
   },
   "outputs": [
    {
     "name": "stdout",
     "output_type": "stream",
     "text": [
      "Best params: {'max_depth': 10, 'max_features': 'auto', 'n_estimators': 300}\n",
      "Best score: 0.2835250978305646\n",
      "\n"
     ]
    }
   ],
   "source": [
    "model = RandomForestRegressor()\n",
    "\n",
    "grid_search = GridSearchCV(model, n_jobs=-1, param_grid=param_grids[1])\n",
    "grid_search.fit(x_train, y_train)\n",
    "\n",
    "print('Best params:', grid_search.best_params_)\n",
    "print('Best score:', grid_search.best_score_, end='\\n\\n')"
   ]
  },
  {
   "cell_type": "code",
   "execution_count": 32,
   "id": "dimensional-musical",
   "metadata": {
    "pycharm": {
     "is_executing": true,
     "name": "#%%\n"
    },
    "scrolled": true
   },
   "outputs": [
    {
     "data": {
      "text/plain": [
       "0.2964294106759592"
      ]
     },
     "execution_count": 32,
     "metadata": {},
     "output_type": "execute_result"
    }
   ],
   "source": [
    "model_regr = RandomForestRegressor(**grid_search.best_params_)\n",
    "\n",
    "model_regr.fit(x_train, y_train)\n",
    "\n",
    "y_pred = get_y_pred_preprocessed(model_regr, x_test, x_scaler)\n",
    "explained_variance_score(y_test, y_pred)"
   ]
  },
  {
   "cell_type": "markdown",
   "id": "martial-calvin",
   "metadata": {},
   "source": [
    "### Model evaluation\n",
    "\n",
    "Since our model is a random forest, we can take a look at which features turned out to be the most important at determining the loan amount:"
   ]
  },
  {
   "cell_type": "code",
   "execution_count": 33,
   "id": "hungry-replacement",
   "metadata": {
    "pycharm": {
     "is_executing": true,
     "name": "#%%\n"
    },
    "scrolled": false
   },
   "outputs": [
    {
     "data": {
      "text/html": [
       "<div>\n",
       "<style scoped>\n",
       "    .dataframe tbody tr th:only-of-type {\n",
       "        vertical-align: middle;\n",
       "    }\n",
       "\n",
       "    .dataframe tbody tr th {\n",
       "        vertical-align: top;\n",
       "    }\n",
       "\n",
       "    .dataframe thead th {\n",
       "        text-align: right;\n",
       "    }\n",
       "</style>\n",
       "<table border=\"1\" class=\"dataframe\">\n",
       "  <thead>\n",
       "    <tr style=\"text-align: right;\">\n",
       "      <th></th>\n",
       "      <th>Feature</th>\n",
       "      <th>Gini importance</th>\n",
       "    </tr>\n",
       "  </thead>\n",
       "  <tbody>\n",
       "    <tr>\n",
       "      <th>0</th>\n",
       "      <td>annual_inc</td>\n",
       "      <td>0.551323</td>\n",
       "    </tr>\n",
       "    <tr>\n",
       "      <th>1</th>\n",
       "      <td>dti</td>\n",
       "      <td>0.141947</td>\n",
       "    </tr>\n",
       "    <tr>\n",
       "      <th>3</th>\n",
       "      <td>fico_range_low</td>\n",
       "      <td>0.071503</td>\n",
       "    </tr>\n",
       "    <tr>\n",
       "      <th>61</th>\n",
       "      <td>purpose_debt_consolidation</td>\n",
       "      <td>0.0277434</td>\n",
       "    </tr>\n",
       "    <tr>\n",
       "      <th>2</th>\n",
       "      <td>emp_length</td>\n",
       "      <td>0.0276849</td>\n",
       "    </tr>\n",
       "    <tr>\n",
       "      <th>...</th>\n",
       "      <td>...</td>\n",
       "      <td>...</td>\n",
       "    </tr>\n",
       "    <tr>\n",
       "      <th>69</th>\n",
       "      <td>purpose_renewable_energy</td>\n",
       "      <td>5.21108e-05</td>\n",
       "    </tr>\n",
       "    <tr>\n",
       "      <th>72</th>\n",
       "      <td>purpose_wedding</td>\n",
       "      <td>3.80022e-05</td>\n",
       "    </tr>\n",
       "    <tr>\n",
       "      <th>62</th>\n",
       "      <td>purpose_educational</td>\n",
       "      <td>4.08229e-07</td>\n",
       "    </tr>\n",
       "    <tr>\n",
       "      <th>56</th>\n",
       "      <td>home_ownership_OTHER</td>\n",
       "      <td>3.84706e-09</td>\n",
       "    </tr>\n",
       "    <tr>\n",
       "      <th>54</th>\n",
       "      <td>home_ownership_ANY</td>\n",
       "      <td>0</td>\n",
       "    </tr>\n",
       "  </tbody>\n",
       "</table>\n",
       "<p>73 rows × 2 columns</p>\n",
       "</div>"
      ],
      "text/plain": [
       "                       Feature Gini importance\n",
       "0                   annual_inc        0.551323\n",
       "1                          dti        0.141947\n",
       "3               fico_range_low        0.071503\n",
       "61  purpose_debt_consolidation       0.0277434\n",
       "2                   emp_length       0.0276849\n",
       "..                         ...             ...\n",
       "69    purpose_renewable_energy     5.21108e-05\n",
       "72             purpose_wedding     3.80022e-05\n",
       "62         purpose_educational     4.08229e-07\n",
       "56        home_ownership_OTHER     3.84706e-09\n",
       "54          home_ownership_ANY               0\n",
       "\n",
       "[73 rows x 2 columns]"
      ]
     },
     "execution_count": 33,
     "metadata": {},
     "output_type": "execute_result"
    }
   ],
   "source": [
    "pd.DataFrame([x.columns, model_regr.feature_importances_],\n",
    "             index=['Feature', 'Gini importance']\n",
    "             ).transpose().sort_values('Gini importance', ascending=False)"
   ]
  },
  {
   "cell_type": "markdown",
   "id": "complex-thanksgiving",
   "metadata": {},
   "source": [
    "We can also look at the residuals of our model, and how they depend on the true loan amount"
   ]
  },
  {
   "cell_type": "code",
   "execution_count": 299,
   "id": "bronze-digest",
   "metadata": {
    "pycharm": {
     "is_executing": true,
     "name": "#%%\n"
    },
    "scrolled": true
   },
   "outputs": [
    {
     "data": {
      "image/png": "[encoded data removed]",
      "text/plain": [
       "<Figure size 432x288 with 1 Axes>"
      ]
     },
     "metadata": {
      "needs_background": "light"
     },
     "output_type": "display_data"
    }
   ],
   "source": [
    "residuals = y_pred - y_test\n",
    "\n",
    "plt.scatter(y_test, residuals, s=10, alpha=0.1, label='True')\n",
    "plt.xlabel('True Loan Amount ($)')\n",
    "plt.ylabel('Residuals  (y_pred - y_true)')\n",
    "plt.title('Residuals of the regression model \\ndepending on the true loan amount')\n",
    "\n",
    "plt.axhline(0, ls='--', c='k', alpha=0.5)\n",
    "plt.annotate('Overestimation', xy=(y_pred.max() / 1.75, residuals.max() / 1.25), size=32, color='k', alpha=0.4,\n",
    "                ha='center', va='center')\n",
    "plt.annotate(' Underestimation', xy=(y_pred.max() / 1.75, residuals.min() + residuals.max() / 4), size=32, color='k', alpha=0.4,\n",
    "                ha='center', va='center')\n",
    "plt.show()"
   ]
  },
  {
   "cell_type": "markdown",
   "id": "local-suspension",
   "metadata": {},
   "source": [
    "## Combining the Models"
   ]
  },
  {
   "cell_type": "markdown",
   "id": "detected-stone",
   "metadata": {},
   "source": [
    "As we can see, our regression model can be off by over $10,000 which can be decisive in accepting or rejecting somebody's loan application, while our classification model is pretty precise in determining whether an application with a given loan amount would be accepted. Given that, we can leverage the high performance of our classification model to correct the predictions made by the regression model, i.e., if a person with a predicted loan amount was classified as accepted we would bump up that amount to find a value beyond which he is no longer accepted (to correct for regression model's underestimation), or if that person was classified as rejected with that amount, we can bump it down\n",
    "until (or if) that person is accepted (to correct for overestimation).\n",
    "\n",
    "Ideally, we wouldn't even need to have a regression model and instead we could just start from $0 and keep increasing the loan amount for each application until we hit the ceiling and use that value as our prediction. However, our classification model might mistakenly always give acceptance to some people no matter the loan amount simply because it was not trained on anyone requesting a million-dollar loan (which is particularly true of random forests, compared to, for example, logistic regression which would have coefficients generalizable beyond the training data). So, in a case where our model does give acceptance to a person no matter how insanely high the requested loan amount is, we would indeed have to use on the initial prediction of our regression model to return as our final prediction. \n",
    "\n",
    "Relying on the less accurate regression model does seem to involve more risk of lending a person more money than they can pay back, but, as we can see from the residuals graph, the regression model tends to underestimate for higher loan amounts which should potentially decrease the total monetary loss resulting from this inaccuracy. As for the lower loan amounts where the model tend to overestimate, this risk is only relevant if our classification model mistakenly classified the ineligible applicant as eligible, which happens only 5% of the time (with the threshold of 0.8). In most other cases, if the regression model overestimated, the classification model would spot that and we would bring down the loan amount to the level approved by the classification model."
   ]
  },
  {
   "cell_type": "markdown",
   "id": "political-queen",
   "metadata": {},
   "source": [
    "### Final Product"
   ]
  },
  {
   "cell_type": "markdown",
   "id": "fewer-episode",
   "metadata": {},
   "source": [
    "Now, we can combine our two models under a single function, as well as add the functions that would perform the optimization procedure of the loan amount as discussed above:"
   ]
  },
  {
   "cell_type": "code",
   "execution_count": 384,
   "id": "eastern-hypothetical",
   "metadata": {
    "pycharm": {
     "is_executing": true,
     "name": "#%%\n"
    },
    "scrolled": true
   },
   "outputs": [],
   "source": [
    "IMPOSSIBLE_LOAN_AMT = 1e9  # used to verify that the model won't always give acceptance\n",
    "MAX_LOAN_AMT = 100_000_000  # maximum laon amount (will not increase beyond that even if a person is classified as accepted)\n",
    "\n",
    "\n",
    "def optimize_loan_amt_single(loaner, threshold=0.5):\n",
    "    \"\"\"\n",
    "    Uses scipy optimization to find the highest possible loan amount for the given applicant to be approved.\n",
    "    :param loaner: a list (or Series) of 4 (preprocessed) application values: loan_amnt, fico_range_low, dti, emp_length\n",
    "    :param threshold: a confidence threshold for the classification model of loan approval\n",
    "    :return: loaner data with updated loan_amnt\n",
    "    \"\"\"\n",
    "    loaner_no_amnt = loaner.drop('loan_amnt').copy()\n",
    "\n",
    "    # Objective function that returns either the given loan amt if approved or 0 otherwise\n",
    "    obj_function = lambda loan_amnt: -loan_amnt * get_proba_predictions(\n",
    "        model_classif, [loaner_no_amnt.append(pd.Series(dict(loan_amnt=loan_amnt)))[columns_classif]], threshold)\n",
    "\n",
    "    loaner['loan_amnt'] = minimize(obj_function, [loaner['loan_amnt']],\n",
    "                                   method='TNC', bounds=[(0, MAX_LOAN_AMT)]).x[0]\n",
    "\n",
    "    return loaner\n",
    "\n",
    "\n",
    "def optimize_loan_amts(loaners: pd.DataFrame, threshold=0.5):\n",
    "    loaners_copy = loaners.copy()\n",
    "    \n",
    "    # Get acceptance with initial loan amounts\n",
    "    loaners_copy.dropna(subset=columns_classif, inplace=True)\n",
    "    initial_accepted = get_proba_predictions(model_classif, loaners_copy[columns_classif], threshold)\n",
    "\n",
    "    # To check if model has an upper boundary and won't give acceptance no matter what  (all should be False)\n",
    "    loaners_copy['loan_amnt'] = IMPOSSIBLE_LOAN_AMT\n",
    "    new_accepted_high = get_proba_predictions(model_classif, loaners_copy[columns_classif], threshold)\n",
    "    \n",
    "    # To check if people who weren't accepted with non-zero amounts would be accepted with for loan of 0\n",
    "    new_accepted_low = get_proba_predictions(model_classif, loaners[columns_classif], threshold)\n",
    "    \n",
    "    # Was True but became False with a large loan amount (i.e., we can push the current amount up) \n",
    "    # or was Fasle but becamse True with $0 (i.e., we can lower the amount to gain acceptance)\n",
    "    mask_optimizable = (initial_accepted > new_accepted_high) | (initial_accepted < new_accepted_low & ~new_accepted_high)\n",
    "    loaners.loc[mask_optimizable] = loaners[mask_optimizable].apply(\n",
    "        lambda loaner: optimize_loan_amt_single(loaner, threshold), axis=1)\n",
    "    return loaners\n",
    "\n",
    "\n",
    "def find_max_loan_amt(loaners: pd.DataFrame, threshold=0.5, reject_as_0=True, maximize=False):\n",
    "    \"\"\"\n",
    "    :param loaners: dataframe in format of the accept dataset;\n",
    "    must contain the following columns:\n",
    "    annual_incm, dti, emp_length, fico_range_low, addr_state, home_ownership, purpose\n",
    "    :param threshold: a confidence threshold to be given to the classification model\n",
    "    to make a decision on whether any given person should be funded.\n",
    "    :param reject_as_0: wheather set the loan amount to 0 for those who are classified as rejected.\n",
    "    :param maximize: whether an optimization technique should be applied to find the highers possible loan amount\n",
    "     for each eligible applicant (takes time).\n",
    "\n",
    "    :returns: a dataframe with the feature columns (above) plus a loan_amnt column\n",
    "    containing either 0 (if loan was not approved) or the value of the loan in dollars.\n",
    "    \"\"\"\n",
    "    x_test = loaners.copy()\n",
    "\n",
    "    new_dummies = pd.get_dummies(x_test[categorical_cols])\n",
    "\n",
    "    # Drop dummy values that didn't exist in training set\n",
    "    new_dummies.drop(set(new_dummies.columns) - set(dummies.columns), axis=1, inplace=True)\n",
    "\n",
    "    # Set dummy values that exist in training set but not in `loaners` to 0`\n",
    "    new_dummies[list(set(dummies.columns) - set(new_dummies.columns))] = 0\n",
    "\n",
    "    x_test[new_dummies.columns] = new_dummies\n",
    "\n",
    "    x_test['emp_length'] = emp_length_to_number(x_test['emp_length'])\n",
    "\n",
    "    x_test.dropna(subset=x_cols, inplace=True)\n",
    "\n",
    "    x_test['loan_amnt'] = get_y_pred_preprocessed(model_regr, x_test[x_cols])\n",
    "\n",
    "    if reject_as_0:\n",
    "        x_test.dropna(subset=columns_classif, inplace=True)\n",
    "        accept = get_proba_predictions(model_classif, x_test[columns_classif], threshold)\n",
    "\n",
    "        # Set loan amount of those who should not be accepted to 0\n",
    "        x_test.loc[~accept, 'loan_amnt'] = 0\n",
    "\n",
    "    if maximize:\n",
    "        x_test = optimize_loan_amts(x_test, threshold)\n",
    "\n",
    "    return x_test[columns_regr + categorical_cols + ['loan_amnt']]\n"
   ]
  },
  {
   "cell_type": "markdown",
   "id": "featured-brazil",
   "metadata": {},
   "source": [
    "We can test this approach by taking another 1% sample from our accepted dataset. The sampling is technically with replacement, so there can be some datapoints that the model has already seen, but given that both of the sets comprise about 1% of the full datasets, the number of such datapoints should be insignificant. In any case, we would look at this subset only for the purposes of demonstration"
   ]
  },
  {
   "cell_type": "code",
   "execution_count": 385,
   "id": "compact-niger",
   "metadata": {
    "pycharm": {
     "is_executing": true,
     "name": "#%%\n"
    },
    "scrolled": true
   },
   "outputs": [
    {
     "name": "stderr",
     "output_type": "stream",
     "text": [
      "c:\\users\\breedoon\\appdata\\local\\programs\\python\\python38-32\\lib\\site-packages\\IPython\\core\\interactiveshell.py:3145: DtypeWarning: Columns (0,19,118) have mixed types.Specify dtype option on import or set low_memory=False.\n",
      "  has_raised = await self.run_ast_nodes(code_ast.body, cell_name,\n"
     ]
    }
   ],
   "source": [
    "loaners_test = pd.read_csv(file_acc, skiprows=get_row_skipper(preserve=0.01))"
   ]
  },
  {
   "cell_type": "code",
   "execution_count": 400,
   "id": "warming-stationery",
   "metadata": {
    "pycharm": {
     "is_executing": true,
     "name": "#%%\n"
    }
   },
   "outputs": [
    {
     "data": {
      "text/html": [
       "<div>\n",
       "<style scoped>\n",
       "    .dataframe tbody tr th:only-of-type {\n",
       "        vertical-align: middle;\n",
       "    }\n",
       "\n",
       "    .dataframe tbody tr th {\n",
       "        vertical-align: top;\n",
       "    }\n",
       "\n",
       "    .dataframe thead th {\n",
       "        text-align: right;\n",
       "    }\n",
       "</style>\n",
       "<table border=\"1\" class=\"dataframe\">\n",
       "  <thead>\n",
       "    <tr style=\"text-align: right;\">\n",
       "      <th></th>\n",
       "      <th>annual_inc</th>\n",
       "      <th>dti</th>\n",
       "      <th>emp_length</th>\n",
       "      <th>fico_range_low</th>\n",
       "      <th>addr_state</th>\n",
       "      <th>home_ownership</th>\n",
       "      <th>purpose</th>\n",
       "      <th>loan_amnt</th>\n",
       "    </tr>\n",
       "  </thead>\n",
       "  <tbody>\n",
       "    <tr>\n",
       "      <th>0</th>\n",
       "      <td>55000.0</td>\n",
       "      <td>5.91</td>\n",
       "      <td>11.0</td>\n",
       "      <td>675.0</td>\n",
       "      <td>PA</td>\n",
       "      <td>MORTGAGE</td>\n",
       "      <td>debt_consolidation</td>\n",
       "      <td>10718.401611</td>\n",
       "    </tr>\n",
       "    <tr>\n",
       "      <th>1</th>\n",
       "      <td>97000.0</td>\n",
       "      <td>22.22</td>\n",
       "      <td>11.0</td>\n",
       "      <td>710.0</td>\n",
       "      <td>NY</td>\n",
       "      <td>OWN</td>\n",
       "      <td>major_purchase</td>\n",
       "      <td>15584.004647</td>\n",
       "    </tr>\n",
       "    <tr>\n",
       "      <th>2</th>\n",
       "      <td>38000.0</td>\n",
       "      <td>25.36</td>\n",
       "      <td>3.0</td>\n",
       "      <td>660.0</td>\n",
       "      <td>KS</td>\n",
       "      <td>RENT</td>\n",
       "      <td>debt_consolidation</td>\n",
       "      <td>10814.264527</td>\n",
       "    </tr>\n",
       "    <tr>\n",
       "      <th>3</th>\n",
       "      <td>120000.0</td>\n",
       "      <td>18.32</td>\n",
       "      <td>11.0</td>\n",
       "      <td>705.0</td>\n",
       "      <td>MI</td>\n",
       "      <td>MORTGAGE</td>\n",
       "      <td>debt_consolidation</td>\n",
       "      <td>22405.470009</td>\n",
       "    </tr>\n",
       "    <tr>\n",
       "      <th>4</th>\n",
       "      <td>134000.0</td>\n",
       "      <td>26.05</td>\n",
       "      <td>0.0</td>\n",
       "      <td>680.0</td>\n",
       "      <td>MI</td>\n",
       "      <td>RENT</td>\n",
       "      <td>debt_consolidation</td>\n",
       "      <td>23693.710970</td>\n",
       "    </tr>\n",
       "  </tbody>\n",
       "</table>\n",
       "</div>"
      ],
      "text/plain": [
       "   annual_inc    dti  emp_length  fico_range_low addr_state home_ownership  \\\n",
       "0     55000.0   5.91        11.0           675.0         PA       MORTGAGE   \n",
       "1     97000.0  22.22        11.0           710.0         NY            OWN   \n",
       "2     38000.0  25.36         3.0           660.0         KS           RENT   \n",
       "3    120000.0  18.32        11.0           705.0         MI       MORTGAGE   \n",
       "4    134000.0  26.05         0.0           680.0         MI           RENT   \n",
       "\n",
       "              purpose     loan_amnt  \n",
       "0  debt_consolidation  10718.401611  \n",
       "1      major_purchase  15584.004647  \n",
       "2  debt_consolidation  10814.264527  \n",
       "3  debt_consolidation  22405.470009  \n",
       "4  debt_consolidation  23693.710970  "
      ]
     },
     "execution_count": 400,
     "metadata": {},
     "output_type": "execute_result"
    }
   ],
   "source": [
    "loaners_res = find_max_loan_amt(loaners_test, threshold=0.8)\n",
    "\n",
    "loaners_res.head()"
   ]
  },
  {
   "cell_type": "markdown",
   "id": "governmental-astrology",
   "metadata": {},
   "source": [
    "To simplify calculations for a single person to get a better grasp at knowing what our model is doing, we can create a wrapper function that would output the targeted loan amount for a given person:"
   ]
  },
  {
   "cell_type": "code",
   "execution_count": 387,
   "id": "controversial-webcam",
   "metadata": {
    "pycharm": {
     "is_executing": true,
     "name": "#%%\n"
    },
    "scrolled": false
   },
   "outputs": [],
   "source": [
    "def get_single_loan_prediction(annual_inc, fico, dti, emp_length, addr_state, home_ownership, purpose,\n",
    "                               threshold=0.8, reject_as_0=True, maximize=True):\n",
    "    \"\"\"\n",
    "    Finds the optimal amount of money to be loaned to the applicant given the information provided in their application.\n",
    "\n",
    "    :param annual_inc: Annual income in dollars of the applicant\n",
    "    :param fico: FICO score of the applicant\n",
    "    :param dti: Debt to income ration (in %) of the applicant\n",
    "    :param emp_length: number of years employed, one of '< 1 year', '1 year', '2 years', ... '10 years', '10+ years'\n",
    "    :param addr_state: home state address of the applicant\n",
    "    :param home_ownership: one of 'MORTGAGE', 'RENT', 'OWN', 'ANY', 'NONE'\n",
    "    :param purpose: one of  'debt_consolidation', 'credit_card', 'home_improvement', 'other',\n",
    "                            'car', 'major_purchase', 'medical', 'small_business', 'moving',\n",
    "                            'vacation', 'house', 'renewable_energy', 'wedding', 'educational'\n",
    "    :param threshold: a confidence threshold of whether the applicant is creditworthy.\n",
    "    The higher the value, the more likely the applicant is to get rejected.\n",
    "    :returns: amount of money in dollars to be given to the applicant (or 0 if their application should be rejected)\n",
    "    \"\"\"\n",
    "    return find_max_loan_amt(pd.DataFrame(dict(\n",
    "        annual_inc=annual_inc,\n",
    "        fico_range_low=fico,\n",
    "        dti=float(dti.replace('%', '')),  # remove the %\n",
    "        emp_length=emp_length,\n",
    "        addr_state=addr_state,\n",
    "        home_ownership=home_ownership,\n",
    "        purpose=purpose,\n",
    "    ), index=[0]), threshold=threshold, reject_as_0=reject_as_0, maximize=maximize).loc[0, 'loan_amnt']"
   ]
  },
  {
   "cell_type": "markdown",
   "id": "rocky-wrong",
   "metadata": {},
   "source": [
    "### Usage Example"
   ]
  },
  {
   "cell_type": "markdown",
   "id": "similar-party",
   "metadata": {},
   "source": [
    "Let's see how our algorithms works on a random person from Washington with an income of $60,000, a high FICO score, low DTI, renting a home, and asking for a loan for his small business:"
   ]
  },
  {
   "cell_type": "code",
   "execution_count": 388,
   "id": "therapeutic-working",
   "metadata": {
    "pycharm": {
     "is_executing": true,
     "name": "#%%\n"
    },
    "scrolled": true
   },
   "outputs": [
    {
     "data": {
      "text/plain": [
       "13525.644821904627"
      ]
     },
     "execution_count": 388,
     "metadata": {},
     "output_type": "execute_result"
    }
   ],
   "source": [
    "person = dict(\n",
    "    annual_inc=60000,\n",
    "    fico=770,\n",
    "    dti='2%',\n",
    "    emp_length='3 years',\n",
    "    addr_state='WA',\n",
    "    home_ownership='RENT',\n",
    "    purpose='small_business'\n",
    ")\n",
    "get_single_loan_prediction(**person, maximize=False)"
   ]
  },
  {
   "cell_type": "markdown",
   "id": "beautiful-turkish",
   "metadata": {},
   "source": [
    "How would the loan amount change if that person was in California?"
   ]
  },
  {
   "cell_type": "code",
   "execution_count": 389,
   "id": "limited-threshold",
   "metadata": {
    "pycharm": {
     "is_executing": true,
     "name": "#%%\n"
    },
    "scrolled": false
   },
   "outputs": [
    {
     "data": {
      "text/plain": [
       "14151.674207566513"
      ]
     },
     "execution_count": 389,
     "metadata": {},
     "output_type": "execute_result"
    }
   ],
   "source": [
    "get_single_loan_prediction(**{**person, 'addr_state': 'CA'}, maximize=False)"
   ]
  },
  {
   "cell_type": "markdown",
   "id": "provincial-accordance",
   "metadata": {},
   "source": [
    "What would the loan be if his income was $90,000?"
   ]
  },
  {
   "cell_type": "code",
   "execution_count": 390,
   "id": "sharp-season",
   "metadata": {
    "pycharm": {
     "is_executing": true,
     "name": "#%%\n"
    },
    "scrolled": false
   },
   "outputs": [
    {
     "data": {
      "text/plain": [
       "23974.33030917688"
      ]
     },
     "execution_count": 390,
     "metadata": {},
     "output_type": "execute_result"
    }
   ],
   "source": [
    "get_single_loan_prediction(**{**person, 'annual_inc': 90000}, maximize=False)"
   ]
  },
  {
   "cell_type": "markdown",
   "id": "terminal-peter",
   "metadata": {},
   "source": [
    "What is the maximum possible amount of money we can borrow to that person?"
   ]
  },
  {
   "cell_type": "code",
   "execution_count": 391,
   "id": "inner-assumption",
   "metadata": {
    "pycharm": {
     "name": "#%%\n"
    }
   },
   "outputs": [
    {
     "data": {
      "text/plain": [
       "28900.000943407416"
      ]
     },
     "execution_count": 391,
     "metadata": {},
     "output_type": "execute_result"
    }
   ],
   "source": [
    "get_single_loan_prediction(**person, maximize=True)"
   ]
  },
  {
   "cell_type": "markdown",
   "id": "adverse-european",
   "metadata": {},
   "source": [
    "Now, what would happed to the loan amount if the DTI was much higher and fico was much lower, but also income was much higher and employment length was much higher?"
   ]
  },
  {
   "cell_type": "code",
   "execution_count": 392,
   "id": "eligible-schedule",
   "metadata": {
    "pycharm": {
     "is_executing": true,
     "name": "#%%\n"
    },
    "scrolled": true
   },
   "outputs": [
    {
     "data": {
      "text/plain": [
       "0.0"
      ]
     },
     "execution_count": 392,
     "metadata": {},
     "output_type": "execute_result"
    }
   ],
   "source": [
    "person = {**person, \n",
    "                  'dti': '20%', \n",
    "                  'fico': 705, \n",
    "                  'annual_inc': 125000, \n",
    "                  'emp_length': '10+ years'}\n",
    "get_single_loan_prediction(**person, maximize=False)"
   ]
  },
  {
   "cell_type": "markdown",
   "id": "traditional-policy",
   "metadata": {},
   "source": [
    "We can also look at what loan amount our regression model assigned to that person for which he wasn't approved:"
   ]
  },
  {
   "cell_type": "code",
   "execution_count": 393,
   "id": "metallic-oregon",
   "metadata": {},
   "outputs": [
    {
     "data": {
      "text/plain": [
       "22137.707090962063"
      ]
     },
     "execution_count": 393,
     "metadata": {},
     "output_type": "execute_result"
    }
   ],
   "source": [
    "get_single_loan_prediction(**person, reject_as_0=False, maximize=False)"
   ]
  },
  {
   "cell_type": "markdown",
   "id": "solved-identification",
   "metadata": {},
   "source": [
    "And we can also try to find a lower amount for which he would be approved:"
   ]
  },
  {
   "cell_type": "code",
   "execution_count": 394,
   "id": "magnetic-shadow",
   "metadata": {},
   "outputs": [
    {
     "data": {
      "text/plain": [
       "19875.000862143934"
      ]
     },
     "execution_count": 394,
     "metadata": {},
     "output_type": "execute_result"
    }
   ],
   "source": [
    "get_single_loan_prediction(**person, maximize=True)"
   ]
  },
  {
   "cell_type": "markdown",
   "id": "super-steering",
   "metadata": {},
   "source": [
    "### Conclusion\n",
    "\n",
    "Both models have their advantages and disadvantages: the classification model is very accurate (Precision = 0.95) but can approve a person with unreasonably high loan amount, while the regression model is not very accurate ($R^2 = 0.28$) but gives does give a reasonable single number, and the combination of these models managed to combine the benefits of both of them while minimizing their downsides."
   ]
  }
 ],
 "metadata": {
  "kernelspec": {
   "display_name": "Python 3",
   "language": "python",
   "name": "python3"
  },
  "language_info": {
   "codemirror_mode": {
    "name": "ipython",
    "version": 3
   },
   "file_extension": ".py",
   "mimetype": "text/x-python",
   "name": "python",
   "nbconvert_exporter": "python",
   "pygments_lexer": "ipython3",
   "version": "3.9.0"
  },
  "toc": {
   "base_numbering": 1,
   "nav_menu": {},
   "number_sections": true,
   "sideBar": true,
   "skip_h1_title": false,
   "title_cell": "Table of Contents",
   "title_sidebar": "Contents",
   "toc_cell": false,
   "toc_position": {},
   "toc_section_display": true,
   "toc_window_display": false
  },
  "varInspector": {
   "cols": {
    "lenName": 16,
    "lenType": 16,
    "lenVar": 40
   },
   "kernels_config": {
    "python": {
     "delete_cmd_postfix": "",
     "delete_cmd_prefix": "del ",
     "library": "var_list.py",
     "varRefreshCmd": "print(var_dic_list())"
    },
    "r": {
     "delete_cmd_postfix": ") ",
     "delete_cmd_prefix": "rm(",
     "library": "var_list.r",
     "varRefreshCmd": "cat(var_dic_list()) "
    }
   },
   "types_to_exclude": [
    "module",
    "function",
    "builtin_function_or_method",
    "instance",
    "_Feature"
   ],
   "window_display": false
  }
 },
 "nbformat": 4,
 "nbformat_minor": 5
}
