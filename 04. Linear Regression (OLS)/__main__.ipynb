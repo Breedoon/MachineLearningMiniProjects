{
 "cells": [
  {
   "cell_type": "markdown",
   "id": "serial-initial",
   "metadata": {},
   "source": [
    "# Moore's Law Verification with **_Linear Regression_**"
   ]
  },
  {
   "cell_type": "code",
   "execution_count": 1,
   "id": "shaped-function",
   "metadata": {
    "pycharm": {
     "name": "#%%\n"
    }
   },
   "outputs": [],
   "source": [
    "import pandas as pd\n",
    "import numpy as np\n",
    "import matplotlib.pyplot as plt\n",
    "from sklearn.linear_model import LinearRegression\n",
    "from sklearn.neighbors import KNeighborsClassifier\n",
    "from sklearn.model_selection import train_test_split, GridSearchCV\n",
    "from sklearn.metrics import mean_squared_error, r2_score, f1_score, confusion_matrix\n",
    "from sklearn.datasets import load_digits\n",
    "import statsmodels.api as sm"
   ]
  },
  {
   "cell_type": "markdown",
   "id": "requested-julian",
   "metadata": {},
   "source": [
    "## Preparing the Data"
   ]
  },
  {
   "cell_type": "code",
   "execution_count": 2,
   "id": "dynamic-organizer",
   "metadata": {
    "pycharm": {
     "name": "#%%\n"
    }
   },
   "outputs": [],
   "source": [
    "cpu_benchmarks = pd.read_csv('benchmarks.csv', na_values='--')\n",
    "cpu_benchmarks = pd.concat([cpu_benchmarks, pd.DataFrame(list(  # splitting 'cpu95-19990503-03574' into 3 columns\n",
    "    cpu_benchmarks['testID'].str.split('-').values), columns=['cpu_year', 'date', 'id'])], axis=1)\n",
    "# adjusting benchmark values\n",
    "cpu_benchmarks.loc[cpu_benchmarks['cpu_year'] == 'cpu2006', ['base', 'peak']] *= 100\n",
    "cpu_benchmarks.loc[cpu_benchmarks['cpu_year'] == 'cpu95', ['base', 'peak']] *= 10\n",
    "\n",
    "# formatting dates as datetimes\n",
    "dates = cpu_benchmarks['date'].copy()\n",
    "dates[dates.str.len() < 8] = '19' + dates[dates.str.len() < 8]  # some dates in 1990s are marked just as '96', '98' etc\n",
    "dates = pd.to_datetime(dates.str[:4] + '-' + dates.str[4:6] + '-' + dates.str[6:])  # '19990104' -> '1999-01-04', etc\n",
    "cpu_benchmarks['date'] = dates"
   ]
  },
  {
   "cell_type": "markdown",
   "id": "oriental-string",
   "metadata": {},
   "source": [
    "## Plotting"
   ]
  },
  {
   "cell_type": "code",
   "execution_count": 3,
   "id": "vanilla-longitude",
   "metadata": {
    "pycharm": {
     "name": "#%%\n"
    }
   },
   "outputs": [
    {
     "data": {
      "image/png": "[encoded data removed]",
      "text/plain": [
       "<Figure size 432x288 with 1 Axes>"
      ]
     },
     "metadata": {
      "needs_background": "light"
     },
     "output_type": "display_data"
    }
   ],
   "source": [
    "plot_data = cpu_benchmarks.copy()[['date', 'base', 'peak']].dropna()\n",
    "x = plot_data['date'].copy()\n",
    "y = plot_data['base'].copy()\n",
    "\n",
    "plt.plot_date(x, y, c='magenta', markersize=1)\n",
    "\n",
    "plt.yscale('log')\n",
    "plt.xlabel('Time')\n",
    "plt.ylabel('CPU Performance')\n",
    "plt.title('CPU Base Performance over 1996 - 2012')\n",
    "plt.show()"
   ]
  },
  {
   "cell_type": "markdown",
   "id": "rolled-remove",
   "metadata": {},
   "source": [
    "## Linear Regression"
   ]
  },
  {
   "cell_type": "markdown",
   "id": "provincial-giant",
   "metadata": {},
   "source": [
    "### Preprocessing"
   ]
  },
  {
   "cell_type": "code",
   "execution_count": 4,
   "id": "mature-calibration",
   "metadata": {
    "pycharm": {
     "name": "#%%\n"
    }
   },
   "outputs": [],
   "source": [
    "x = x.astype('int64') / 1e9 / (60 * 60 * 24 * 365) # ns to s to years\n",
    "y = np.log2(y)"
   ]
  },
  {
   "cell_type": "markdown",
   "id": "corresponding-tumor",
   "metadata": {},
   "source": [
    "### Model Summary"
   ]
  },
  {
   "cell_type": "code",
   "execution_count": 5,
   "id": "requested-submission",
   "metadata": {
    "pycharm": {
     "name": "#%%\n"
    }
   },
   "outputs": [
    {
     "data": {
      "text/html": [
       "<table class=\"simpletable\">\n",
       "<caption>OLS Regression Results</caption>\n",
       "<tr>\n",
       "  <th>Dep. Variable:</th>          <td>base</td>       <th>  R-squared (uncentered):</th>       <td>   0.991</td>  \n",
       "</tr>\n",
       "<tr>\n",
       "  <th>Model:</th>                   <td>OLS</td>       <th>  Adj. R-squared (uncentered):</th>  <td>   0.991</td>  \n",
       "</tr>\n",
       "<tr>\n",
       "  <th>Method:</th>             <td>Least Squares</td>  <th>  F-statistic:       </th>           <td>1.430e+07</td> \n",
       "</tr>\n",
       "<tr>\n",
       "  <th>Date:</th>             <td>Sun, 17 Jan 2021</td> <th>  Prob (F-statistic):</th>            <td>  0.00</td>   \n",
       "</tr>\n",
       "<tr>\n",
       "  <th>Time:</th>                 <td>22:50:45</td>     <th>  Log-Likelihood:    </th>          <td>-1.9027e+05</td>\n",
       "</tr>\n",
       "<tr>\n",
       "  <th>No. Observations:</th>      <td>130721</td>      <th>  AIC:               </th>           <td>3.805e+05</td> \n",
       "</tr>\n",
       "<tr>\n",
       "  <th>Df Residuals:</th>          <td>130720</td>      <th>  BIC:               </th>           <td>3.806e+05</td> \n",
       "</tr>\n",
       "<tr>\n",
       "  <th>Df Model:</th>              <td>     1</td>      <th>                     </th>               <td> </td>     \n",
       "</tr>\n",
       "<tr>\n",
       "  <th>Covariance Type:</th>      <td>nonrobust</td>    <th>                     </th>               <td> </td>     \n",
       "</tr>\n",
       "</table>\n",
       "<table class=\"simpletable\">\n",
       "<tr>\n",
       "    <td></td>      <th>coef</th>     <th>std err</th>      <th>t</th>      <th>P>|t|</th>  <th>[0.025</th>    <th>0.975]</th>  \n",
       "</tr>\n",
       "<tr>\n",
       "  <th>date</th> <td>    0.2860</td> <td> 7.56e-05</td> <td> 3781.346</td> <td> 0.000</td> <td>    0.286</td> <td>    0.286</td>\n",
       "</tr>\n",
       "</table>\n",
       "<table class=\"simpletable\">\n",
       "<tr>\n",
       "  <th>Omnibus:</th>       <td>28062.178</td> <th>  Durbin-Watson:     </th> <td>   1.509</td> \n",
       "</tr>\n",
       "<tr>\n",
       "  <th>Prob(Omnibus):</th>  <td> 0.000</td>   <th>  Jarque-Bera (JB):  </th> <td>90114.677</td>\n",
       "</tr>\n",
       "<tr>\n",
       "  <th>Skew:</th>           <td> 1.093</td>   <th>  Prob(JB):          </th> <td>    0.00</td> \n",
       "</tr>\n",
       "<tr>\n",
       "  <th>Kurtosis:</th>       <td> 6.430</td>   <th>  Cond. No.          </th> <td>    1.00</td> \n",
       "</tr>\n",
       "</table><br/><br/>Notes:<br/>[1] R² is computed without centering (uncentered) since the model does not contain a constant.<br/>[2] Standard Errors assume that the covariance matrix of the errors is correctly specified."
      ],
      "text/plain": [
       "<class 'statsmodels.iolib.summary.Summary'>\n",
       "\"\"\"\n",
       "                                 OLS Regression Results                                \n",
       "=======================================================================================\n",
       "Dep. Variable:                   base   R-squared (uncentered):                   0.991\n",
       "Model:                            OLS   Adj. R-squared (uncentered):              0.991\n",
       "Method:                 Least Squares   F-statistic:                          1.430e+07\n",
       "Date:                Sun, 17 Jan 2021   Prob (F-statistic):                        0.00\n",
       "Time:                        22:50:45   Log-Likelihood:                     -1.9027e+05\n",
       "No. Observations:              130721   AIC:                                  3.805e+05\n",
       "Df Residuals:                  130720   BIC:                                  3.806e+05\n",
       "Df Model:                           1                                                  \n",
       "Covariance Type:            nonrobust                                                  \n",
       "==============================================================================\n",
       "                 coef    std err          t      P>|t|      [0.025      0.975]\n",
       "------------------------------------------------------------------------------\n",
       "date           0.2860   7.56e-05   3781.346      0.000       0.286       0.286\n",
       "==============================================================================\n",
       "Omnibus:                    28062.178   Durbin-Watson:                   1.509\n",
       "Prob(Omnibus):                  0.000   Jarque-Bera (JB):            90114.677\n",
       "Skew:                           1.093   Prob(JB):                         0.00\n",
       "Kurtosis:                       6.430   Cond. No.                         1.00\n",
       "==============================================================================\n",
       "\n",
       "Notes:\n",
       "[1] R² is computed without centering (uncentered) since the model does not contain a constant.\n",
       "[2] Standard Errors assume that the covariance matrix of the errors is correctly specified.\n",
       "\"\"\""
      ]
     },
     "execution_count": 5,
     "metadata": {},
     "output_type": "execute_result"
    }
   ],
   "source": [
    "model = sm.OLS(y, x).fit()\n",
    "model.summary()"
   ]
  },
  {
   "cell_type": "code",
   "execution_count": 6,
   "id": "equipped-instrument",
   "metadata": {},
   "outputs": [
    {
     "name": "stdout",
     "output_type": "stream",
     "text": [
      "Increase over 1 year:\t 1.2192755394497217\n",
      "Increase over 2 years:\t 1.4866328411004097\n"
     ]
    }
   ],
   "source": [
    "print('Increase over 1 year:\\t', 2 ** model.params[0])\n",
    "print('Increase over 2 years:\\t', (2 ** model.params[0]) ** 2)"
   ]
  },
  {
   "cell_type": "markdown",
   "id": "other-nicaragua",
   "metadata": {},
   "source": [
    "So, while it's not exactly the case that computing power doubles every two years, as Moore's law predicts, it is the case that the growth is exponential and it grows by roughly 50% every two years."
   ]
  }
 ],
 "metadata": {
  "kernelspec": {
   "display_name": "Python 3",
   "language": "python",
   "name": "python3"
  },
  "language_info": {
   "codemirror_mode": {
    "name": "ipython",
    "version": 3
   },
   "file_extension": ".py",
   "mimetype": "text/x-python",
   "name": "python",
   "nbconvert_exporter": "python",
   "pygments_lexer": "ipython3",
   "version": "3.9.0"
  },
  "toc": {
   "base_numbering": 1,
   "nav_menu": {},
   "number_sections": true,
   "sideBar": true,
   "skip_h1_title": false,
   "title_cell": "Table of Contents",
   "title_sidebar": "Contents",
   "toc_cell": false,
   "toc_position": {},
   "toc_section_display": true,
   "toc_window_display": false
  },
  "varInspector": {
   "cols": {
    "lenName": 16,
    "lenType": 16,
    "lenVar": 40
   },
   "kernels_config": {
    "python": {
     "delete_cmd_postfix": "",
     "delete_cmd_prefix": "del ",
     "library": "var_list.py",
     "varRefreshCmd": "print(var_dic_list())"
    },
    "r": {
     "delete_cmd_postfix": ") ",
     "delete_cmd_prefix": "rm(",
     "library": "var_list.r",
     "varRefreshCmd": "cat(var_dic_list()) "
    }
   },
   "types_to_exclude": [
    "module",
    "function",
    "builtin_function_or_method",
    "instance",
    "_Feature"
   ],
   "window_display": false
  }
 },
 "nbformat": 4,
 "nbformat_minor": 5
}
