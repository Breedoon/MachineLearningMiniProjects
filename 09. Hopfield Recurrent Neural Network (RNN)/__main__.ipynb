{
 "cells": [
  {
   "cell_type": "markdown",
   "id": "continuing-jamaica",
   "metadata": {},
   "source": [
    "# Associative Memory with **_Hopfield Recurrent Neural Network_**"
   ]
  },
  {
   "cell_type": "code",
   "execution_count": 1,
   "id": "architectural-stamp",
   "metadata": {
    "pycharm": {
     "name": "#%%\n"
    }
   },
   "outputs": [],
   "source": [
    "import numpy as np\n",
    "import matplotlib.pyplot as plt\n",
    "from sklearn.datasets import load_digits\n",
    "from scipy.optimize import minimize\n"
   ]
  },
  {
   "cell_type": "code",
   "execution_count": 2,
   "id": "satisfactory-sussex",
   "metadata": {
    "pycharm": {
     "name": "#%%\n"
    }
   },
   "outputs": [],
   "source": [
    "class HopfieldNetwork:\n",
    "    def __init__(self, neurons_n=10, memories=None):\n",
    "        \"\"\"\n",
    "        :param neurons_n: number of neurons, must be equal to dimensionality of memories.\n",
    "        :param memories: an NxP array containing N memories; if not None, neurons_n is set to P.\n",
    "        \"\"\"\n",
    "        if memories is not None:\n",
    "            neurons_n = memories.shape[1]\n",
    "\n",
    "        self._weights = np.zeros((neurons_n, neurons_n))\n",
    "        self._memories_n = 0\n",
    "\n",
    "        if memories is not None:\n",
    "            self.add_memories(memories)\n",
    "\n",
    "    def get_closest_memory(self, state: np.array, max_iter=10):\n",
    "        prev = state.copy()\n",
    "        nxt = state.copy()\n",
    "        for _ in range(max_iter):\n",
    "            nxt = self._get_next_step(nxt)\n",
    "            if (nxt == prev).all():  # converged  (i.e., hasn't changed since last iteration)\n",
    "                break\n",
    "            prev = nxt\n",
    "        return nxt\n",
    "\n",
    "    def get_closest_memories(self, states, **kwargs):\n",
    "        restored_memories = [] * len(states)\n",
    "        for state in states:\n",
    "            restored_memories.append(self.get_closest_memory(state, **kwargs))\n",
    "        return restored_memories\n",
    "\n",
    "    def add_memories(self, memories):\n",
    "        memories = self.preprocess_memories(np.array(memories))\n",
    "        old_weights_sum = self._weights * self._memories_n\n",
    "        new_weights_sum = (memories.reshape(memories.shape[0], memories.shape[2], 1)  # multiply each of`shape[0]`\n",
    "                           @ memories.reshape(memories.shape[0], 1, memories.shape[2])  # by its transpose\n",
    "                           ).sum(axis=0)\n",
    "        self._memories_n += len(memories)\n",
    "        self._weights = (old_weights_sum + new_weights_sum) / self._memories_n\n",
    "\n",
    "    def add_memory(self, memory):\n",
    "        self.add_memories([memory])\n",
    "\n",
    "    def _get_next_step(self, to):\n",
    "        return np.sign((to @ self._weights) / len(self._weights))\n",
    "\n",
    "    @staticmethod\n",
    "    def preprocess_memories(memories: np.array):\n",
    "        \"\"\"\n",
    "        Converts all positive elements to 1s, and the rest to -1s\n",
    "        \"\"\"\n",
    "        return (-1 * (memories <= 0) + 1 * (memories > 0)).reshape(len(memories), -1)[:, np.newaxis, :]\n"
   ]
  },
  {
   "cell_type": "markdown",
   "id": "processed-skating",
   "metadata": {},
   "source": [
    "Now we can try to make the network learn three digits from the MNIST dataset and then ask it to recall them from a sketch:"
   ]
  },
  {
   "cell_type": "code",
   "execution_count": 3,
   "id": "bibliographic-service",
   "metadata": {
    "pycharm": {
     "name": "#%%\n"
    }
   },
   "outputs": [],
   "source": [
    "digits = load_digits()"
   ]
  },
  {
   "cell_type": "code",
   "execution_count": 4,
   "id": "balanced-functionality",
   "metadata": {
    "pycharm": {
     "name": "#%%\n"
    }
   },
   "outputs": [],
   "source": [
    "use_digits = [0, 3, 6]\n",
    "hop_net = HopfieldNetwork(memories=digits.data[use_digits])  # take first instances of each of chosen digits"
   ]
  },
  {
   "cell_type": "code",
   "execution_count": 5,
   "id": "committed-advisory",
   "metadata": {},
   "outputs": [
    {
     "data": {
      "image/png": "[encoded data removed]",
      "text/plain": [
       "<Figure size 432x288 with 3 Axes>"
      ]
     },
     "metadata": {
      "needs_background": "light"
     },
     "output_type": "display_data"
    }
   ],
   "source": [
    "preprocessed_memories = HopfieldNetwork.preprocess_memories(digits.data[use_digits])\n",
    "fig, axes = plt.subplots(1, len(use_digits))\n",
    "for i, ax in enumerate(axes):\n",
    "    ax.imshow(preprocessed_memories[i].reshape(8, 8))\n",
    "    ax.axis('off')"
   ]
  },
  {
   "cell_type": "code",
   "execution_count": 6,
   "id": "comic-newspaper",
   "metadata": {
    "pycharm": {
     "name": "#%%\n"
    }
   },
   "outputs": [
    {
     "data": {
      "text/plain": [
       "(-0.5, 7.5, 7.5, -0.5)"
      ]
     },
     "execution_count": 6,
     "metadata": {},
     "output_type": "execute_result"
    },
    {
     "data": {
      "image/png": "[encoded data removed]",
      "text/plain": [
       "<Figure size 432x288 with 2 Axes>"
      ]
     },
     "metadata": {
      "needs_background": "light"
     },
     "output_type": "display_data"
    }
   ],
   "source": [
    "fig, axes = plt.subplots(1, 2)\n",
    "guess = np.array([  # trying to mimic a zero\n",
    "    [0, 0, 0, 0, 0, 0, 0, 0],\n",
    "    [0, 0, 0, 1, 1, 0, 0, 0],\n",
    "    [0, 0, 1, 0, 0, 1, 0, 0],\n",
    "    [0, 0, 1, 0, 0, 1, 0, 0],\n",
    "    [0, 0, 1, 0, 0, 1, 0, 0],\n",
    "    [0, 0, 1, 0, 0, 0, 0, 0],\n",
    "    [0, 0, 0, 0, 0, 0, 0, 0],\n",
    "    [0, 0, 0, 0, 0, 0, 0, 0],\n",
    "]).flatten()\n",
    "\n",
    "axes[0].imshow(guess.reshape(8, 8))\n",
    "axes[0].axis('off')\n",
    "\n",
    "matched_memory = hop_net.get_closest_memory(guess)\n",
    "axes[1].imshow(matched_memory.reshape(8, 8))\n",
    "axes[1].axis('off')\n"
   ]
  },
  {
   "cell_type": "code",
   "execution_count": 7,
   "id": "grateful-fluid",
   "metadata": {},
   "outputs": [
    {
     "data": {
      "text/plain": [
       "(-0.5, 7.5, 7.5, -0.5)"
      ]
     },
     "execution_count": 7,
     "metadata": {},
     "output_type": "execute_result"
    },
    {
     "data": {
      "image/png": "[encoded data removed]",
      "text/plain": [
       "<Figure size 432x288 with 2 Axes>"
      ]
     },
     "metadata": {
      "needs_background": "light"
     },
     "output_type": "display_data"
    }
   ],
   "source": [
    "fig, axes = plt.subplots(1, 2)\n",
    "guess = np.array([  # trying to mimic a six\n",
    "    [0, 0, 0, 0, 0, 0, 0, 0],\n",
    "    [0, 0, 0, 1, 0, 0, 0, 0],\n",
    "    [0, 0, 1, 0, 0, 0, 0, 0],\n",
    "    [0, 0, 1, 0, 0, 0, 0, 0],\n",
    "    [0, 0, 1, 0, 1, 1, 0, 0],\n",
    "    [0, 0, 1, 0, 0, 1, 0, 0],\n",
    "    [0, 0, 1, 0, 0, 1, 0, 0],\n",
    "    [0, 0, 0, 1, 1, 0, 0, 0],\n",
    "]).flatten()\n",
    "\n",
    "axes[0].imshow(guess.reshape(8, 8))\n",
    "axes[0].axis('off')\n",
    "\n",
    "matched_memory = hop_net.get_closest_memory(guess)\n",
    "axes[1].imshow(matched_memory.reshape(8, 8))\n",
    "axes[1].axis('off')\n"
   ]
  },
  {
   "cell_type": "code",
   "execution_count": 8,
   "id": "occupied-panama",
   "metadata": {
    "pycharm": {
     "name": "#%%\n"
    }
   },
   "outputs": [],
   "source": [
    "def verify_capacity(neurons_n, memories_n):\n",
    "    \"\"\"\n",
    "    Returns whether a Hopfild network with `neurons_n` neurons should be able to store `memories_n` memories.\n",
    "    \"\"\"\n",
    "    random_memories = np.random.choice([-1, 1], (memories_n, neurons_n))\n",
    "    corrupted_random_memories = random_memories.copy()\n",
    "    corrupted_random_memories[:, np.random.randint(0, neurons_n)] *= -1  # jitter one bit\n",
    "\n",
    "    return (np.array(HopfieldNetwork(memories=random_memories).get_closest_memories(corrupted_random_memories))\n",
    "            == random_memories).all()\n"
   ]
  },
  {
   "cell_type": "code",
   "execution_count": 9,
   "id": "selective-vision",
   "metadata": {
    "pycharm": {
     "name": "#%%\n"
    }
   },
   "outputs": [],
   "source": [
    "def get_max_capacity(neurons_n):\n",
    "    \"\"\"\n",
    "    Returns the maximum number of memories a Hopfield network with `neurons_n` neurons can store.\n",
    "    \"\"\"\n",
    "    return round(minimize(lambda x: -x[0] * verify_capacity(neurons_n, round(x[0])),\n",
    "                          x0=[1], method='TNC', bounds=[(1, neurons_n)]).x[0])\n"
   ]
  },
  {
   "cell_type": "code",
   "execution_count": 10,
   "id": "executive-landing",
   "metadata": {
    "pycharm": {
     "name": "#%%\n"
    }
   },
   "outputs": [
    {
     "name": "stderr",
     "output_type": "stream",
     "text": [
      "c:\\users\\breedoon\\appdata\\local\\programs\\python\\python38\\lib\\site-packages\\scipy\\optimize\\_numdiff.py:579: RuntimeWarning: invalid value encountered in true_divide\n",
      "  J_transposed[i] = df / dx\n"
     ]
    }
   ],
   "source": [
    "neurons_ns = np.unique(np.geomspace(1, 1000, 20, dtype=int))\n",
    "max_capacities = [get_max_capacity(n) for n in neurons_ns]"
   ]
  },
  {
   "cell_type": "code",
   "execution_count": 11,
   "id": "through-defense",
   "metadata": {
    "pycharm": {
     "name": "#%%\n"
    }
   },
   "outputs": [
    {
     "data": {
      "image/png": "[encoded data removed]",
      "text/plain": [
       "<Figure size 432x288 with 1 Axes>"
      ]
     },
     "metadata": {
      "needs_background": "light"
     },
     "output_type": "display_data"
    }
   ],
   "source": [
    "plt.plot(neurons_ns, max_capacities, color='magenta')\n",
    "plt.title('Capacity of Hopfield Netrowk \\ndepending on its size')\n",
    "plt.ylabel('Maximum number of patterns \\nthat can be stored')\n",
    "plt.xlabel('Number of neurons')\n",
    "plt.show()"
   ]
  },
  {
   "cell_type": "markdown",
   "id": "recent-characteristic",
   "metadata": {},
   "source": [
    "The scaling behavior seems to be somewhat linear with a slope of about 0.05 memories per neuron."
   ]
  },
  {
   "cell_type": "code",
   "execution_count": null,
   "id": "obvious-distance",
   "metadata": {},
   "outputs": [],
   "source": [
    "# Associative Memory with **_Hopfield Recurrent Neural Network_**\n",
    "\n",
    "import numpy as np\n",
    "import matplotlib.pyplot as plt\n",
    "from sklearn.datasets import load_digits\n",
    "from scipy.optimize import minimize\n",
    "\n",
    "\n",
    "class HopfieldNetwork:\n",
    "    def __init__(self, neurons_n=10, memories=None):\n",
    "        \"\"\"\n",
    "        :param neurons_n: number of neurons, must be equal to dimensionality of memories.\n",
    "        :param memories: an NxP array containing N memories; if not None, neurons_n is set to P.\n",
    "        \"\"\"\n",
    "        if memories is not None:\n",
    "            neurons_n = memories.shape[1]\n",
    "\n",
    "        self._weights = np.zeros((neurons_n, neurons_n))\n",
    "        self._memories_n = 0\n",
    "\n",
    "        if memories is not None:\n",
    "            self.add_memories(memories)\n",
    "\n",
    "    def get_closest_memory(self, state: np.array, max_iter=10):\n",
    "        prev = state.copy()\n",
    "        nxt = state.copy()\n",
    "        for _ in range(max_iter):\n",
    "            nxt = self._get_next_step(nxt)\n",
    "            if (nxt == prev).all():  # converged  (i.e., hasn't changed since last iteration)\n",
    "                break\n",
    "            prev = nxt\n",
    "        return nxt\n",
    "\n",
    "    def get_closest_memories(self, states, **kwargs):\n",
    "        restored_memories = [] * len(states)\n",
    "        for state in states:\n",
    "            restored_memories.append(self.get_closest_memory(state, **kwargs))\n",
    "        return restored_memories\n",
    "\n",
    "    def add_memories(self, memories):\n",
    "        memories = self.preprocess_memories(np.array(memories))\n",
    "        old_weights_sum = self._weights * self._memories_n\n",
    "        new_weights_sum = (memories.reshape(memories.shape[0], memories.shape[2], 1)  # multiply each of`shape[0]`\n",
    "                           @ memories.reshape(memories.shape[0], 1, memories.shape[2])  # by its transpose\n",
    "                           ).sum(axis=0)\n",
    "        self._memories_n += len(memories)\n",
    "        self._weights = (old_weights_sum + new_weights_sum) / self._memories_n\n",
    "\n",
    "    def add_memory(self, memory):\n",
    "        self.add_memories([memory])\n",
    "\n",
    "    def _get_next_step(self, to):\n",
    "        return np.sign((to @ self._weights) / len(self._weights))\n",
    "\n",
    "    @staticmethod\n",
    "    def preprocess_memories(memories: np.array):\n",
    "        \"\"\"\n",
    "        Converts all positive elements to 1s, and the rest to -1s\n",
    "        \"\"\"\n",
    "        return (-1 * (memories <= 0) + 1 * (memories > 0)).reshape(len(memories), -1)[:, np.newaxis, :]\n",
    "\n",
    "\n",
    "digits = load_digits()\n",
    "\n",
    "use_digits = [0, 3, 6]\n",
    "hop_net = HopfieldNetwork(memories=digits.data[use_digits])  # take first instances of each of chosen digits\n",
    "\n",
    "preprocessed_memories = HopfieldNetwork.preprocess_memories(digits.data[use_digits])\n",
    "fig, axes = plt.subplots(1, len(use_digits))\n",
    "for i, ax in enumerate(axes):\n",
    "    ax.imshow(preprocessed_memories[i].reshape(8, 8))\n",
    "    ax.axis('off')\n",
    "\n",
    "fig, axes = plt.subplots(1, 2)\n",
    "guess = np.array([  # trying to mimic a zero\n",
    "    [0, 0, 0, 0, 0, 0, 0, 0],\n",
    "    [0, 0, 0, 1, 1, 0, 0, 0],\n",
    "    [0, 0, 1, 0, 0, 1, 0, 0],\n",
    "    [0, 0, 1, 0, 0, 1, 0, 0],\n",
    "    [0, 0, 1, 0, 0, 1, 0, 0],\n",
    "    [0, 0, 1, 0, 0, 0, 0, 0],\n",
    "    [0, 0, 0, 0, 0, 0, 0, 0],\n",
    "    [0, 0, 0, 0, 0, 0, 0, 0],\n",
    "]).flatten()\n",
    "\n",
    "axes[0].imshow(guess.reshape(8, 8))\n",
    "axes[0].axis('off')\n",
    "\n",
    "matched_memory = hop_net.get_closest_memory(guess)\n",
    "axes[1].imshow(matched_memory.reshape(8, 8))\n",
    "axes[1].axis('off')\n",
    "\n",
    "\n",
    "fig, axes = plt.subplots(1, 2)\n",
    "guess = np.array([  # trying to mimic a zero\n",
    "    [0, 0, 0, 0, 0, 0, 0, 0],\n",
    "    [0, 0, 0, 1, 0, 0, 0, 0],\n",
    "    [0, 0, 1, 0, 0, 0, 0, 0],\n",
    "    [0, 0, 1, 0, 0, 0, 0, 0],\n",
    "    [0, 0, 1, 0, 1, 1, 0, 0],\n",
    "    [0, 0, 1, 0, 0, 1, 0, 0],\n",
    "    [0, 0, 1, 0, 0, 1, 0, 0],\n",
    "    [0, 0, 0, 1, 1, 0, 0, 0],\n",
    "]).flatten()\n",
    "\n",
    "axes[0].imshow(guess.reshape(8, 8))\n",
    "axes[0].axis('off')\n",
    "\n",
    "matched_memory = hop_net.get_closest_memory(guess)\n",
    "axes[1].imshow(matched_memory.reshape(8, 8))\n",
    "axes[1].axis('off')\n",
    "\n",
    "\n",
    "def verify_capacity(neurons_n, memories_n):\n",
    "    \"\"\"\n",
    "    Returns whether a Hopfild network with `neurons_n` neurons should be able to store `memories_n` memories.\n",
    "    \"\"\"\n",
    "    random_memories = np.random.choice([-1, 1], (memories_n, neurons_n))\n",
    "    corrupted_random_memories = random_memories.copy()\n",
    "    corrupted_random_memories[:, np.random.randint(0, neurons_n)] *= -1  # jitter one bit\n",
    "\n",
    "    return (np.array(HopfieldNetwork(memories=random_memories).get_closest_memories(corrupted_random_memories))\n",
    "            == random_memories).all()\n",
    "\n",
    "\n",
    "def get_max_capacity(neurons_n):\n",
    "    \"\"\"\n",
    "    Returns the maximum number of memories a Hopfield network with `neurons_n` neurons can store.\n",
    "    \"\"\"\n",
    "    return round(minimize(lambda x: -x[0] * verify_capacity(neurons_n, round(x[0])),\n",
    "                          x0=[1], method='TNC', bounds=[(1, neurons_n)]).x[0])\n",
    "\n",
    "\n",
    "neurons_ns = np.unique(np.geomspace(1, 1000, 20, dtype=int))\n",
    "max_capacities = [get_max_capacity(n) for n in neurons_ns]\n",
    "\n",
    "plt.plot(neurons_ns, max_capacities, color='magenta')\n",
    "plt.title('Capacity of Hopfield Netrowk \\ndepending on its size')\n",
    "plt.ylabel('Maximum number of patterns \\nthat can be stored')\n",
    "plt.xlabel('Number of neurons')\n",
    "plt.show()\n",
    "\n",
    "The scaling behavior seems to be somewhat linear with a slope of about 0.05 memories per neuron."
   ]
  }
 ],
 "metadata": {
  "kernelspec": {
   "display_name": "Python 3",
   "language": "python",
   "name": "python3"
  },
  "language_info": {
   "codemirror_mode": {
    "name": "ipython",
    "version": 3
   },
   "file_extension": ".py",
   "mimetype": "text/x-python",
   "name": "python",
   "nbconvert_exporter": "python",
   "pygments_lexer": "ipython3",
   "version": "3.9.0"
  },
  "toc": {
   "base_numbering": 1,
   "nav_menu": {},
   "number_sections": true,
   "sideBar": true,
   "skip_h1_title": false,
   "title_cell": "Table of Contents",
   "title_sidebar": "Contents",
   "toc_cell": false,
   "toc_position": {},
   "toc_section_display": true,
   "toc_window_display": false
  },
  "varInspector": {
   "cols": {
    "lenName": 16,
    "lenType": 16,
    "lenVar": 40
   },
   "kernels_config": {
    "python": {
     "delete_cmd_postfix": "",
     "delete_cmd_prefix": "del ",
     "library": "var_list.py",
     "varRefreshCmd": "print(var_dic_list())"
    },
    "r": {
     "delete_cmd_postfix": ") ",
     "delete_cmd_prefix": "rm(",
     "library": "var_list.r",
     "varRefreshCmd": "cat(var_dic_list()) "
    }
   },
   "types_to_exclude": [
    "module",
    "function",
    "builtin_function_or_method",
    "instance",
    "_Feature"
   ],
   "window_display": false
  }
 },
 "nbformat": 4,
 "nbformat_minor": 5
}
